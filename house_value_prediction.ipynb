{
 "cells": [
  {
   "cell_type": "markdown",
   "id": "61a6017c-33cf-4f1f-b66b-3ff6b329b00b",
   "metadata": {},
   "source": [
    "# House Price Prediction Regression Project"
   ]
  },
  {
   "cell_type": "markdown",
   "id": "b97c2282-2663-43cd-bcb7-e8cdf93104fe",
   "metadata": {},
   "source": [
    "## Load Libraries"
   ]
  },
  {
   "cell_type": "code",
   "execution_count": 145,
   "id": "2dad53ba-4097-4ee0-9cdc-8574e86887ac",
   "metadata": {},
   "outputs": [],
   "source": [
    "import numpy as np\n",
    "import pandas as pd\n",
    "import matplotlib.pyplot as plt\n",
    "import seaborn as sns\n",
    "import calendar\n",
    "from pandas.api.types import CategoricalDtype\n",
    "from sklearn.preprocessing import StandardScaler"
   ]
  },
  {
   "cell_type": "code",
   "execution_count": 2,
   "id": "75e21032-49d5-4188-ad70-1c48a794d51c",
   "metadata": {},
   "outputs": [
    {
     "name": "stdout",
     "output_type": "stream",
     "text": [
      "(1460, 81)\n",
      "(1459, 80)\n"
     ]
    }
   ],
   "source": [
    "train_data_path = r\"C:\\Users\\Abhinaya Siripurapu\\OneDrive\\Desktop\\abhi\\house-value-prediction-ml\\data\\train.csv\"\n",
    "test_data_path = r\"C:\\Users\\Abhinaya Siripurapu\\OneDrive\\Desktop\\abhi\\house-value-prediction-ml\\data\\test.csv\"\n",
    "\n",
    "df_train = pd.read_csv(train_data_path)\n",
    "df_test = pd.read_csv(test_data_path)\n",
    "\n",
    "print(df_train.shape)\n",
    "print(df_test.shape)\n"
   ]
  },
  {
   "cell_type": "code",
   "execution_count": 3,
   "id": "1853cd5b-a884-474a-a245-2df34a829a18",
   "metadata": {},
   "outputs": [],
   "source": [
    "## Know your data"
   ]
  },
  {
   "cell_type": "raw",
   "id": "9adaafc1-6af1-488e-badf-3ec2df574003",
   "metadata": {},
   "source": [
    "### Will use this feature while converting into numerical format/ encoding\n",
    "Neighborhood\n",
    "OverallQual\n",
    "OverallCond\n",
    "YearBuilt\n",
    "Foundation\n",
    "Electrical\n",
    "KitchenQual\n",
    "GarageType\n",
    "GarageFinish\n",
    "Fence\n"
   ]
  },
  {
   "cell_type": "code",
   "execution_count": 4,
   "id": "b99c9a06-ba62-4cf0-8151-39c5aa24f2cb",
   "metadata": {},
   "outputs": [],
   "source": [
    "## Data Integration"
   ]
  },
  {
   "cell_type": "code",
   "execution_count": 5,
   "id": "1f8758f9-21a0-4c22-8156-a999b6885a5c",
   "metadata": {},
   "outputs": [
    {
     "name": "stdout",
     "output_type": "stream",
     "text": [
      "(2919, 81)\n"
     ]
    }
   ],
   "source": [
    "df = pd.concat([df_train, df_test])\n",
    "print(df.shape)"
   ]
  },
  {
   "cell_type": "code",
   "execution_count": 6,
   "id": "dafee705-7f1f-4285-9812-49128a6ce86f",
   "metadata": {},
   "outputs": [],
   "source": [
    "## Get the brief information of Dataset"
   ]
  },
  {
   "cell_type": "code",
   "execution_count": 7,
   "id": "d55fe10f-428f-4ce7-a222-1e9f955887dc",
   "metadata": {},
   "outputs": [
    {
     "name": "stdout",
     "output_type": "stream",
     "text": [
      "<class 'pandas.core.frame.DataFrame'>\n",
      "Index: 2919 entries, 0 to 1458\n",
      "Data columns (total 81 columns):\n",
      " #   Column         Non-Null Count  Dtype  \n",
      "---  ------         --------------  -----  \n",
      " 0   Id             2919 non-null   int64  \n",
      " 1   MSSubClass     2919 non-null   int64  \n",
      " 2   MSZoning       2915 non-null   object \n",
      " 3   LotFrontage    2433 non-null   float64\n",
      " 4   LotArea        2919 non-null   int64  \n",
      " 5   Street         2919 non-null   object \n",
      " 6   Alley          198 non-null    object \n",
      " 7   LotShape       2919 non-null   object \n",
      " 8   LandContour    2919 non-null   object \n",
      " 9   Utilities      2917 non-null   object \n",
      " 10  LotConfig      2919 non-null   object \n",
      " 11  LandSlope      2919 non-null   object \n",
      " 12  Neighborhood   2919 non-null   object \n",
      " 13  Condition1     2919 non-null   object \n",
      " 14  Condition2     2919 non-null   object \n",
      " 15  BldgType       2919 non-null   object \n",
      " 16  HouseStyle     2919 non-null   object \n",
      " 17  OverallQual    2919 non-null   int64  \n",
      " 18  OverallCond    2919 non-null   int64  \n",
      " 19  YearBuilt      2919 non-null   int64  \n",
      " 20  YearRemodAdd   2919 non-null   int64  \n",
      " 21  RoofStyle      2919 non-null   object \n",
      " 22  RoofMatl       2919 non-null   object \n",
      " 23  Exterior1st    2918 non-null   object \n",
      " 24  Exterior2nd    2918 non-null   object \n",
      " 25  MasVnrType     1153 non-null   object \n",
      " 26  MasVnrArea     2896 non-null   float64\n",
      " 27  ExterQual      2919 non-null   object \n",
      " 28  ExterCond      2919 non-null   object \n",
      " 29  Foundation     2919 non-null   object \n",
      " 30  BsmtQual       2838 non-null   object \n",
      " 31  BsmtCond       2837 non-null   object \n",
      " 32  BsmtExposure   2837 non-null   object \n",
      " 33  BsmtFinType1   2840 non-null   object \n",
      " 34  BsmtFinSF1     2918 non-null   float64\n",
      " 35  BsmtFinType2   2839 non-null   object \n",
      " 36  BsmtFinSF2     2918 non-null   float64\n",
      " 37  BsmtUnfSF      2918 non-null   float64\n",
      " 38  TotalBsmtSF    2918 non-null   float64\n",
      " 39  Heating        2919 non-null   object \n",
      " 40  HeatingQC      2919 non-null   object \n",
      " 41  CentralAir     2919 non-null   object \n",
      " 42  Electrical     2918 non-null   object \n",
      " 43  1stFlrSF       2919 non-null   int64  \n",
      " 44  2ndFlrSF       2919 non-null   int64  \n",
      " 45  LowQualFinSF   2919 non-null   int64  \n",
      " 46  GrLivArea      2919 non-null   int64  \n",
      " 47  BsmtFullBath   2917 non-null   float64\n",
      " 48  BsmtHalfBath   2917 non-null   float64\n",
      " 49  FullBath       2919 non-null   int64  \n",
      " 50  HalfBath       2919 non-null   int64  \n",
      " 51  BedroomAbvGr   2919 non-null   int64  \n",
      " 52  KitchenAbvGr   2919 non-null   int64  \n",
      " 53  KitchenQual    2918 non-null   object \n",
      " 54  TotRmsAbvGrd   2919 non-null   int64  \n",
      " 55  Functional     2917 non-null   object \n",
      " 56  Fireplaces     2919 non-null   int64  \n",
      " 57  FireplaceQu    1499 non-null   object \n",
      " 58  GarageType     2762 non-null   object \n",
      " 59  GarageYrBlt    2760 non-null   float64\n",
      " 60  GarageFinish   2760 non-null   object \n",
      " 61  GarageCars     2918 non-null   float64\n",
      " 62  GarageArea     2918 non-null   float64\n",
      " 63  GarageQual     2760 non-null   object \n",
      " 64  GarageCond     2760 non-null   object \n",
      " 65  PavedDrive     2919 non-null   object \n",
      " 66  WoodDeckSF     2919 non-null   int64  \n",
      " 67  OpenPorchSF    2919 non-null   int64  \n",
      " 68  EnclosedPorch  2919 non-null   int64  \n",
      " 69  3SsnPorch      2919 non-null   int64  \n",
      " 70  ScreenPorch    2919 non-null   int64  \n",
      " 71  PoolArea       2919 non-null   int64  \n",
      " 72  PoolQC         10 non-null     object \n",
      " 73  Fence          571 non-null    object \n",
      " 74  MiscFeature    105 non-null    object \n",
      " 75  MiscVal        2919 non-null   int64  \n",
      " 76  MoSold         2919 non-null   int64  \n",
      " 77  YrSold         2919 non-null   int64  \n",
      " 78  SaleType       2918 non-null   object \n",
      " 79  SaleCondition  2919 non-null   object \n",
      " 80  SalePrice      1460 non-null   float64\n",
      "dtypes: float64(12), int64(26), object(43)\n",
      "memory usage: 1.8+ MB\n"
     ]
    }
   ],
   "source": [
    "df.info()"
   ]
  },
  {
   "cell_type": "raw",
   "id": "48be6caf-6b7b-4bce-a5bb-d9ffabd84b82",
   "metadata": {},
   "source": [
    "## Most null value feature \n",
    "Alley\n",
    "FireplaceQu\n",
    "PoolQC\n",
    "Fence\n",
    "MiscFeature"
   ]
  },
  {
   "cell_type": "code",
   "execution_count": 8,
   "id": "06a80a5e-54a9-402b-99c9-bad69ee7b23a",
   "metadata": {},
   "outputs": [
    {
     "name": "stdout",
     "output_type": "stream",
     "text": [
      "26\n",
      "['Id', 'MSSubClass', 'LotArea', 'OverallQual', 'OverallCond', 'YearBuilt', 'YearRemodAdd', '1stFlrSF', '2ndFlrSF', 'LowQualFinSF', 'GrLivArea', 'FullBath', 'HalfBath', 'BedroomAbvGr', 'KitchenAbvGr', 'TotRmsAbvGrd', 'Fireplaces', 'WoodDeckSF', 'OpenPorchSF', 'EnclosedPorch', '3SsnPorch', 'ScreenPorch', 'PoolArea', 'MiscVal', 'MoSold', 'YrSold']\n"
     ]
    }
   ],
   "source": [
    "int_features = df.select_dtypes(include = [\"int64\"]).columns\n",
    "print(int_features.shape[0])\n",
    "print(int_features.tolist())"
   ]
  },
  {
   "cell_type": "code",
   "execution_count": 9,
   "id": "8b8b18dd-8e68-404c-97f0-27cb32a9e577",
   "metadata": {},
   "outputs": [
    {
     "name": "stdout",
     "output_type": "stream",
     "text": [
      "12\n",
      "['LotFrontage', 'MasVnrArea', 'BsmtFinSF1', 'BsmtFinSF2', 'BsmtUnfSF', 'TotalBsmtSF', 'BsmtFullBath', 'BsmtHalfBath', 'GarageYrBlt', 'GarageCars', 'GarageArea', 'SalePrice']\n"
     ]
    }
   ],
   "source": [
    "float_features = df.select_dtypes(include = [\"float64\"]).columns\n",
    "print(float_features.shape[0])\n",
    "print(float_features.tolist())"
   ]
  },
  {
   "cell_type": "code",
   "execution_count": 10,
   "id": "8b296f51-6e6b-44ec-a1ed-954dca410f77",
   "metadata": {},
   "outputs": [
    {
     "name": "stdout",
     "output_type": "stream",
     "text": [
      "43\n",
      "['MSZoning', 'Street', 'Alley', 'LotShape', 'LandContour', 'Utilities', 'LotConfig', 'LandSlope', 'Neighborhood', 'Condition1', 'Condition2', 'BldgType', 'HouseStyle', 'RoofStyle', 'RoofMatl', 'Exterior1st', 'Exterior2nd', 'MasVnrType', 'ExterQual', 'ExterCond', 'Foundation', 'BsmtQual', 'BsmtCond', 'BsmtExposure', 'BsmtFinType1', 'BsmtFinType2', 'Heating', 'HeatingQC', 'CentralAir', 'Electrical', 'KitchenQual', 'Functional', 'FireplaceQu', 'GarageType', 'GarageFinish', 'GarageQual', 'GarageCond', 'PavedDrive', 'PoolQC', 'Fence', 'MiscFeature', 'SaleType', 'SaleCondition']\n"
     ]
    }
   ],
   "source": [
    "obj_features = df.select_dtypes(include = [\"object\"]).columns\n",
    "print(obj_features.shape[0])\n",
    "print(obj_features.tolist())"
   ]
  },
  {
   "cell_type": "code",
   "execution_count": 11,
   "id": "e952e3b8-b361-45cb-9250-e4ae91b0c732",
   "metadata": {},
   "outputs": [],
   "source": [
    "## Handling missing values"
   ]
  },
  {
   "cell_type": "code",
   "execution_count": 12,
   "id": "8f1bedcd-c5eb-42d6-8865-88ad0a1c5d16",
   "metadata": {},
   "outputs": [
    {
     "data": {
      "image/png": "[encoded data removed]",
      "text/plain": [
       "<Figure size 1600x900 with 2 Axes>"
      ]
     },
     "metadata": {},
     "output_type": "display_data"
    }
   ],
   "source": [
    "plt.figure(figsize=(16,9))\n",
    "sns.heatmap(df.isnull())\n",
    "plt.savefig(\"EDA_img/heatmap_DF_of_null_values.png\")"
   ]
  },
  {
   "cell_type": "code",
   "execution_count": 13,
   "id": "c1b30e48-d866-4a52-a744-7485e9817e6d",
   "metadata": {},
   "outputs": [],
   "source": [
    "## Get the null value percentage for every feature"
   ]
  },
  {
   "cell_type": "code",
   "execution_count": 14,
   "id": "72e35596-acb4-47d1-b7b2-75cc36ebf8b6",
   "metadata": {},
   "outputs": [],
   "source": [
    "# Set index as ID column \n",
    "df = df.set_index(\"Id\")"
   ]
  },
  {
   "cell_type": "code",
   "execution_count": 15,
   "id": "1dac3044-af14-4514-9d23-cb66efcd1e88",
   "metadata": {},
   "outputs": [
    {
     "data": {
      "text/plain": [
       "MSSubClass          0\n",
       "MSZoning            4\n",
       "LotFrontage       486\n",
       "LotArea             0\n",
       "Street              0\n",
       "                 ... \n",
       "MoSold              0\n",
       "YrSold              0\n",
       "SaleType            1\n",
       "SaleCondition       0\n",
       "SalePrice        1459\n",
       "Length: 80, dtype: int64"
      ]
     },
     "execution_count": 15,
     "metadata": {},
     "output_type": "execute_result"
    }
   ],
   "source": [
    "null_count = df.isnull().sum()\n",
    "null_count"
   ]
  },
  {
   "cell_type": "code",
   "execution_count": 16,
   "id": "a938f727-24f7-4625-80da-e297edfb4a7c",
   "metadata": {},
   "outputs": [
    {
     "data": {
      "text/plain": [
       "MSSubClass        0.000000\n",
       "MSZoning          0.137033\n",
       "LotFrontage      16.649538\n",
       "LotArea           0.000000\n",
       "Street            0.000000\n",
       "                   ...    \n",
       "MoSold            0.000000\n",
       "YrSold            0.000000\n",
       "SaleType          0.034258\n",
       "SaleCondition     0.000000\n",
       "SalePrice        49.982871\n",
       "Length: 80, dtype: float64"
      ]
     },
     "execution_count": 16,
     "metadata": {},
     "output_type": "execute_result"
    }
   ],
   "source": [
    "null_percent = df.isnull().sum()/df.shape[0] * 100\n",
    "null_percent"
   ]
  },
  {
   "cell_type": "code",
   "execution_count": 17,
   "id": "b6913176-93aa-4132-8918-b9750796ad95",
   "metadata": {},
   "outputs": [
    {
     "data": {
      "text/plain": [
       "'As per observation, we will not drop any feature from the dataset'"
      ]
     },
     "execution_count": 17,
     "metadata": {},
     "output_type": "execute_result"
    }
   ],
   "source": [
    "## Drop Columns / Featurs\n",
    "\"\"\"As per observation, we will not drop any feature from the dataset\"\"\""
   ]
  },
  {
   "cell_type": "code",
   "execution_count": 18,
   "id": "6255424f-1371-4a10-9811-5e515d9f6c6c",
   "metadata": {},
   "outputs": [
    {
     "data": {
      "text/plain": [
       "Alley          93.216855\n",
       "MasVnrType     60.500171\n",
       "PoolQC         99.657417\n",
       "Fence          80.438506\n",
       "MiscFeature    96.402878\n",
       "dtype: float64"
      ]
     },
     "execution_count": 18,
     "metadata": {},
     "output_type": "execute_result"
    }
   ],
   "source": [
    "\"\"\" As per the domain knowledge we will not drop those features, instead None value we will add constant value 'NA'\"\"\"\n",
    "miss_value_50_perc = null_percent[null_percent > 50]\n",
    "miss_value_50_perc"
   ]
  },
  {
   "cell_type": "code",
   "execution_count": 19,
   "id": "6d5ec301-7776-4022-b291-7739ce1ab5e2",
   "metadata": {},
   "outputs": [
    {
     "data": {
      "text/plain": [
       "FireplaceQu    48.646797\n",
       "SalePrice      49.982871\n",
       "dtype: float64"
      ]
     },
     "execution_count": 19,
     "metadata": {},
     "output_type": "execute_result"
    }
   ],
   "source": [
    "\"\"\" As per the domain knowledge we will not drop FireplaceQu feature, instead None value we will add constant value 'NA'\"\"\"\n",
    "miss_value_20_50_perc = null_percent[(null_percent > 20) & (null_percent < 50)]\n",
    "miss_value_20_50_perc"
   ]
  },
  {
   "cell_type": "code",
   "execution_count": 20,
   "id": "6090f0f6-3b01-4c02-8b5e-e27bf84f5924",
   "metadata": {},
   "outputs": [
    {
     "data": {
      "text/plain": [
       "LotFrontage     16.649538\n",
       "GarageType       5.378554\n",
       "GarageYrBlt      5.447071\n",
       "GarageFinish     5.447071\n",
       "GarageQual       5.447071\n",
       "GarageCond       5.447071\n",
       "dtype: float64"
      ]
     },
     "execution_count": 20,
     "metadata": {},
     "output_type": "execute_result"
    }
   ],
   "source": [
    "miss_value_5_20_perc = null_percent[(null_percent > 5) & (null_percent < 20)]\n",
    "miss_value_5_20_perc"
   ]
  },
  {
   "cell_type": "code",
   "execution_count": 21,
   "id": "db73d575-d871-4898-a27e-c709313dca2f",
   "metadata": {},
   "outputs": [
    {
     "data": {
      "text/plain": [
       "<Axes: ylabel='Id'>"
      ]
     },
     "execution_count": 21,
     "metadata": {},
     "output_type": "execute_result"
    },
    {
     "data": {
      "image/png": "[encoded data removed]",
      "text/plain": [
       "<Figure size 640x480 with 2 Axes>"
      ]
     },
     "metadata": {},
     "output_type": "display_data"
    }
   ],
   "source": [
    "sns.heatmap(df[miss_value_5_20_perc.keys()].isnull())"
   ]
  },
  {
   "cell_type": "code",
   "execution_count": 22,
   "id": "e29a8683-e90f-44ec-99c0-5ac19340b047",
   "metadata": {},
   "outputs": [],
   "source": [
    "## Missing Value Imputation"
   ]
  },
  {
   "cell_type": "code",
   "execution_count": 23,
   "id": "762ae123-1fad-45d0-9980-7f4aa625b597",
   "metadata": {},
   "outputs": [
    {
     "name": "stdout",
     "output_type": "stream",
     "text": [
      "35\n"
     ]
    }
   ],
   "source": [
    "missing_value_feat = null_percent[null_percent > 0]\n",
    "print(len(missing_value_feat))"
   ]
  },
  {
   "cell_type": "code",
   "execution_count": 24,
   "id": "e51d4715-817a-4d37-b649-5d84209d2190",
   "metadata": {},
   "outputs": [
    {
     "name": "stdout",
     "output_type": "stream",
     "text": [
      "23\n"
     ]
    }
   ],
   "source": [
    "obj_na_features = missing_value_feat[missing_value_feat.keys().isin(obj_features)]\n",
    "print(len(obj_na_features))"
   ]
  },
  {
   "cell_type": "code",
   "execution_count": 25,
   "id": "2a7c0225-937b-486f-9c7c-5d598da8aa9b",
   "metadata": {},
   "outputs": [
    {
     "name": "stdout",
     "output_type": "stream",
     "text": [
      "0\n"
     ]
    }
   ],
   "source": [
    "int_na_features = missing_value_feat[missing_value_feat.keys().isin(int_features)]\n",
    "print(len(int_na_features))"
   ]
  },
  {
   "cell_type": "code",
   "execution_count": 26,
   "id": "99abe6a0-785b-4378-a5fe-60c4eb86a57b",
   "metadata": {},
   "outputs": [
    {
     "name": "stdout",
     "output_type": "stream",
     "text": [
      "12\n"
     ]
    }
   ],
   "source": [
    "flt_na_features = missing_value_feat[missing_value_feat.keys().isin(float_features)]\n",
    "print(len(flt_na_features))"
   ]
  },
  {
   "cell_type": "code",
   "execution_count": 27,
   "id": "ab6291e9-3214-4b71-8e3d-84021d0f96dd",
   "metadata": {},
   "outputs": [],
   "source": [
    "## Handling MSZoning"
   ]
  },
  {
   "cell_type": "code",
   "execution_count": 28,
   "id": "5a0f9b3b-f231-475f-93ac-d1d03dd5d227",
   "metadata": {},
   "outputs": [
    {
     "data": {
      "text/plain": [
       "MSZoning\n",
       "RL         2265\n",
       "RM          460\n",
       "FV          139\n",
       "RH           26\n",
       "C (all)      25\n",
       "Name: count, dtype: int64"
      ]
     },
     "execution_count": 28,
     "metadata": {},
     "output_type": "execute_result"
    }
   ],
   "source": [
    "df[\"MSZoning\"].value_counts()"
   ]
  },
  {
   "cell_type": "code",
   "execution_count": 29,
   "id": "5c98a899-8568-41bb-811e-a0fea51ae9f2",
   "metadata": {},
   "outputs": [
    {
     "data": {
      "text/plain": [
       "<Axes: xlabel='MSZoning', ylabel='count'>"
      ]
     },
     "execution_count": 29,
     "metadata": {},
     "output_type": "execute_result"
    },
    {
     "data": {
      "image/png": "[encoded data removed]",
      "text/plain": [
       "<Figure size 640x480 with 1 Axes>"
      ]
     },
     "metadata": {},
     "output_type": "display_data"
    }
   ],
   "source": [
    "sns.countplot(data=df, x=\"MSZoning\")\n"
   ]
  },
  {
   "cell_type": "code",
   "execution_count": 30,
   "id": "d5929127-ad49-426b-8853-d2c65350cea8",
   "metadata": {},
   "outputs": [
    {
     "data": {
      "text/plain": [
       "(2919, 80)"
      ]
     },
     "execution_count": 30,
     "metadata": {},
     "output_type": "execute_result"
    }
   ],
   "source": [
    "### backup of original data\n",
    "df_mvi = df.copy()\n",
    "df_mvi.shape"
   ]
  },
  {
   "cell_type": "code",
   "execution_count": 31,
   "id": "aa809179-96c4-4a11-ad40-66bd67ded923",
   "metadata": {},
   "outputs": [
    {
     "data": {
      "text/plain": [
       "0"
      ]
     },
     "execution_count": 31,
     "metadata": {},
     "output_type": "execute_result"
    }
   ],
   "source": [
    "mszoning_mode = df[\"MSZoning\"].mode()[0]\n",
    "df_mvi[\"MSZoning\"].replace(np.nan, mszoning_mode, inplace = True)\n",
    "df_mvi[\"MSZoning\"].isnull().sum()"
   ]
  },
  {
   "cell_type": "code",
   "execution_count": 32,
   "id": "5033c9b7-d31d-4f0a-80cb-e1f04e328143",
   "metadata": {},
   "outputs": [],
   "source": [
    "def oldNewCountPlot(df, df_new, feature):\n",
    "    plt.subplot(121)\n",
    "    sns.countplot(data = df, x = feature)\n",
    "    plt.title(\"Old Data Distribution\")\n",
    "    plt.subplot(122)\n",
    "    sns.countplot(data = df_new, x = feature)\n",
    "    plt.title(\"New Data Distribution\")"
   ]
  },
  {
   "cell_type": "code",
   "execution_count": 33,
   "id": "ca0d8187-545f-427c-ae71-2d7bd7478160",
   "metadata": {},
   "outputs": [
    {
     "data": {
      "image/png": "[encoded data removed]",
      "text/plain": [
       "<Figure size 640x480 with 2 Axes>"
      ]
     },
     "metadata": {},
     "output_type": "display_data"
    }
   ],
   "source": [
    "oldNewCountPlot(df, df_mvi, \"MSZoning\")"
   ]
  },
  {
   "cell_type": "code",
   "execution_count": 34,
   "id": "c7378684-a581-4cdd-ba4b-719719a16713",
   "metadata": {},
   "outputs": [],
   "source": [
    "## Handling Alley"
   ]
  },
  {
   "cell_type": "code",
   "execution_count": 35,
   "id": "57541067-c957-443b-807b-907aaf8d2b9b",
   "metadata": {},
   "outputs": [
    {
     "data": {
      "text/plain": [
       "Alley\n",
       "Grvl    120\n",
       "Pave     78\n",
       "Name: count, dtype: int64"
      ]
     },
     "execution_count": 35,
     "metadata": {},
     "output_type": "execute_result"
    }
   ],
   "source": [
    "df[\"Alley\"].value_counts()"
   ]
  },
  {
   "cell_type": "code",
   "execution_count": 36,
   "id": "06f24762-c4b2-428b-8bda-47c15923c035",
   "metadata": {},
   "outputs": [
    {
     "data": {
      "text/plain": [
       "<Axes: xlabel='Alley', ylabel='count'>"
      ]
     },
     "execution_count": 36,
     "metadata": {},
     "output_type": "execute_result"
    },
    {
     "data": {
      "image/png": "[encoded data removed]",
      "text/plain": [
       "<Figure size 640x480 with 1 Axes>"
      ]
     },
     "metadata": {},
     "output_type": "display_data"
    }
   ],
   "source": [
    "sns.countplot(data=df, x=\"Alley\")"
   ]
  },
  {
   "cell_type": "code",
   "execution_count": 37,
   "id": "50b587c9-1456-4de3-8bdf-bf88dc8e7b4d",
   "metadata": {},
   "outputs": [
    {
     "data": {
      "text/plain": [
       "0"
      ]
     },
     "execution_count": 37,
     "metadata": {},
     "output_type": "execute_result"
    }
   ],
   "source": [
    "alley_cont = \"NA\"\n",
    "df_mvi[\"Alley\"].replace(np.nan, alley_cont, inplace = True)\n",
    "df_mvi[\"Alley\"].isnull().sum()"
   ]
  },
  {
   "cell_type": "code",
   "execution_count": 38,
   "id": "3a9e0c83-aa5c-4712-ab21-d310bc3c0f05",
   "metadata": {},
   "outputs": [
    {
     "data": {
      "image/png": "[encoded data removed]",
      "text/plain": [
       "<Figure size 640x480 with 2 Axes>"
      ]
     },
     "metadata": {},
     "output_type": "display_data"
    }
   ],
   "source": [
    "oldNewCountPlot(df, df_mvi, \"Alley\")"
   ]
  },
  {
   "cell_type": "code",
   "execution_count": 39,
   "id": "cb583822-47dc-4e32-8c99-bbaf4a94d2e8",
   "metadata": {},
   "outputs": [],
   "source": [
    "### Handling LotFrontage"
   ]
  },
  {
   "cell_type": "code",
   "execution_count": 40,
   "id": "d54fba61-a81e-44e9-a2c6-862b50740e5d",
   "metadata": {},
   "outputs": [],
   "source": [
    "def boxHistPlot(df, column, figsize=(16, 5)):\n",
    "    plt.figure(figsize=figsize)\n",
    "    \n",
    "    plt.subplot(121)\n",
    "    sns.boxplot(x=df[column])\n",
    "    \n",
    "    plt.subplot(122)\n",
    "    sns.histplot(df[column], kde=True)\n",
    "    "
   ]
  },
  {
   "cell_type": "code",
   "execution_count": 41,
   "id": "b50d7044-87b6-47ec-ab13-0a4bd14d65e3",
   "metadata": {},
   "outputs": [
    {
     "name": "stderr",
     "output_type": "stream",
     "text": [
      "C:\\Users\\Abhinaya Siripurapu\\anaconda3\\Lib\\site-packages\\seaborn\\_oldcore.py:1119: FutureWarning: use_inf_as_na option is deprecated and will be removed in a future version. Convert inf values to NaN before operating instead.\n",
      "  with pd.option_context('mode.use_inf_as_na', True):\n"
     ]
    },
    {
     "data": {
      "image/png": "[encoded data removed]",
      "text/plain": [
       "<Figure size 1600x500 with 2 Axes>"
      ]
     },
     "metadata": {},
     "output_type": "display_data"
    }
   ],
   "source": [
    "boxHistPlot(df, \"LotFrontage\")"
   ]
  },
  {
   "cell_type": "code",
   "execution_count": 42,
   "id": "69c678ee-dc89-4298-acfd-e49036ce80f3",
   "metadata": {},
   "outputs": [
    {
     "data": {
      "text/plain": [
       "0"
      ]
     },
     "execution_count": 42,
     "metadata": {},
     "output_type": "execute_result"
    }
   ],
   "source": [
    "lotfrontage_mean = df[\"LotFrontage\"].mean()\n",
    "df_mvi[\"LotFrontage\"].replace(np.nan, lotfrontage_mean, inplace = True)\n",
    "df_mvi[\"LotFrontage\"].isnull().sum()"
   ]
  },
  {
   "cell_type": "code",
   "execution_count": 43,
   "id": "1c628be9-649d-4c73-b5de-680f7c3a639f",
   "metadata": {},
   "outputs": [],
   "source": [
    "def oldNewBoxHistPlot(df, df_new, feature, figsize = (16, 10)):\n",
    "    plt.figure(figsize = figsize)\n",
    "    plt.subplot(221)\n",
    "    sns.boxplot(data = df, x = feature)\n",
    "    plt.title(\"Old Data Distribution\")\n",
    "    plt.subplot(222)\n",
    "    sns.distplot(df[feature])\n",
    "    plt.title(\"Old Data Distribution\")\n",
    "    plt.subplot(223)\n",
    "    sns.boxplot(data = df_new, x = feature)\n",
    "    plt.title(\"New Data Distribution\")\n",
    "    plt.subplot(224)\n",
    "    sns.distplot(df[feature])\n",
    "    plt.title(\"New Data Distribution\")"
   ]
  },
  {
   "cell_type": "code",
   "execution_count": 44,
   "id": "79579fb6-daf7-4f16-81ac-1e79c3180a86",
   "metadata": {},
   "outputs": [
    {
     "name": "stderr",
     "output_type": "stream",
     "text": [
      "C:\\Users\\Abhinaya Siripurapu\\AppData\\Local\\Temp\\ipykernel_22760\\3868922876.py:7: UserWarning: \n",
      "\n",
      "`distplot` is a deprecated function and will be removed in seaborn v0.14.0.\n",
      "\n",
      "Please adapt your code to use either `displot` (a figure-level function with\n",
      "similar flexibility) or `histplot` (an axes-level function for histograms).\n",
      "\n",
      "For a guide to updating your code to use the new functions, please see\n",
      "https://gist.github.com/mwaskom/de44147ed2974457ad6372750bbe5751\n",
      "\n",
      "  sns.distplot(df[feature])\n",
      "C:\\Users\\Abhinaya Siripurapu\\anaconda3\\Lib\\site-packages\\seaborn\\_oldcore.py:1119: FutureWarning: use_inf_as_na option is deprecated and will be removed in a future version. Convert inf values to NaN before operating instead.\n",
      "  with pd.option_context('mode.use_inf_as_na', True):\n",
      "C:\\Users\\Abhinaya Siripurapu\\AppData\\Local\\Temp\\ipykernel_22760\\3868922876.py:13: UserWarning: \n",
      "\n",
      "`distplot` is a deprecated function and will be removed in seaborn v0.14.0.\n",
      "\n",
      "Please adapt your code to use either `displot` (a figure-level function with\n",
      "similar flexibility) or `histplot` (an axes-level function for histograms).\n",
      "\n",
      "For a guide to updating your code to use the new functions, please see\n",
      "https://gist.github.com/mwaskom/de44147ed2974457ad6372750bbe5751\n",
      "\n",
      "  sns.distplot(df[feature])\n",
      "C:\\Users\\Abhinaya Siripurapu\\anaconda3\\Lib\\site-packages\\seaborn\\_oldcore.py:1119: FutureWarning: use_inf_as_na option is deprecated and will be removed in a future version. Convert inf values to NaN before operating instead.\n",
      "  with pd.option_context('mode.use_inf_as_na', True):\n"
     ]
    },
    {
     "data": {
      "image/png": "[encoded data removed]",
      "text/plain": [
       "<Figure size 1600x1000 with 4 Axes>"
      ]
     },
     "metadata": {},
     "output_type": "display_data"
    }
   ],
   "source": [
    "oldNewBoxHistPlot(df, df_mvi, \"LotFrontage\")"
   ]
  },
  {
   "cell_type": "code",
   "execution_count": 45,
   "id": "6e1b01d0-8d1c-4aa8-82ec-56ba3139afbb",
   "metadata": {},
   "outputs": [],
   "source": [
    "### Handling Utilities"
   ]
  },
  {
   "cell_type": "code",
   "execution_count": 46,
   "id": "2eb512d3-bf5d-4f6d-8686-55d2a46c897e",
   "metadata": {},
   "outputs": [
    {
     "data": {
      "text/plain": [
       "Utilities\n",
       "AllPub    2916\n",
       "NoSeWa       1\n",
       "Name: count, dtype: int64"
      ]
     },
     "execution_count": 46,
     "metadata": {},
     "output_type": "execute_result"
    }
   ],
   "source": [
    "df[\"Utilities\"].value_counts()"
   ]
  },
  {
   "cell_type": "code",
   "execution_count": 47,
   "id": "28c46287-e46e-4207-9897-85bba1a7afc9",
   "metadata": {},
   "outputs": [
    {
     "data": {
      "text/plain": [
       "0"
      ]
     },
     "execution_count": 47,
     "metadata": {},
     "output_type": "execute_result"
    }
   ],
   "source": [
    "utilities_mode = df[\"Utilities\"].mode()[0]\n",
    "df_mvi[\"Utilities\"].replace(np.nan, utilities_mode, inplace = True)\n",
    "df_mvi[\"Utilities\"].isnull().sum()"
   ]
  },
  {
   "cell_type": "code",
   "execution_count": 48,
   "id": "e3195f8f-69f7-4503-a0da-cd9ac8f52861",
   "metadata": {},
   "outputs": [],
   "source": [
    "### Handling Exterior1st and Exterior2nd"
   ]
  },
  {
   "cell_type": "code",
   "execution_count": 49,
   "id": "f30f9f33-6923-40d0-8ab9-19d8e62afd8d",
   "metadata": {},
   "outputs": [
    {
     "data": {
      "text/plain": [
       "Exterior1st\n",
       "VinylSd    1025\n",
       "MetalSd     450\n",
       "HdBoard     442\n",
       "Wd Sdng     411\n",
       "Plywood     221\n",
       "CemntBd     126\n",
       "BrkFace      87\n",
       "WdShing      56\n",
       "AsbShng      44\n",
       "Stucco       43\n",
       "BrkComm       6\n",
       "AsphShn       2\n",
       "Stone         2\n",
       "CBlock        2\n",
       "ImStucc       1\n",
       "Name: count, dtype: int64"
      ]
     },
     "execution_count": 49,
     "metadata": {},
     "output_type": "execute_result"
    }
   ],
   "source": [
    "df[\"Exterior1st\"].value_counts()"
   ]
  },
  {
   "cell_type": "code",
   "execution_count": 50,
   "id": "f5b6abf0-15e5-4743-9c6a-cf44238dc347",
   "metadata": {},
   "outputs": [
    {
     "data": {
      "text/plain": [
       "Exterior2nd\n",
       "VinylSd    1014\n",
       "MetalSd     447\n",
       "HdBoard     406\n",
       "Wd Sdng     391\n",
       "Plywood     270\n",
       "CmentBd     126\n",
       "Wd Shng      81\n",
       "BrkFace      47\n",
       "Stucco       47\n",
       "AsbShng      38\n",
       "Brk Cmn      22\n",
       "ImStucc      15\n",
       "Stone         6\n",
       "AsphShn       4\n",
       "CBlock        3\n",
       "Other         1\n",
       "Name: count, dtype: int64"
      ]
     },
     "execution_count": 50,
     "metadata": {},
     "output_type": "execute_result"
    }
   ],
   "source": [
    "df[\"Exterior2nd\"].value_counts()"
   ]
  },
  {
   "cell_type": "code",
   "execution_count": 51,
   "id": "e94cf57e-04c9-4073-935a-e5fa1d2c116c",
   "metadata": {},
   "outputs": [
    {
     "data": {
      "text/plain": [
       "0"
      ]
     },
     "execution_count": 51,
     "metadata": {},
     "output_type": "execute_result"
    }
   ],
   "source": [
    "exterior1st_mode = df[\"Exterior1st\"].mode()[0]\n",
    "exterior2nd_mode = df[\"Exterior2nd\"].mode()[0]\n",
    "df_mvi[\"Exterior1st\"].replace(np.nan, exterior1st_mode, inplace = True)\n",
    "df_mvi[\"Exterior2nd\"].replace(np.nan, exterior2nd_mode, inplace = True)\n",
    "df_mvi[\"Exterior1st\"].isnull().sum()\n",
    "df_mvi[\"Exterior2nd\"].isnull().sum()\n"
   ]
  },
  {
   "cell_type": "code",
   "execution_count": 52,
   "id": "0c6f5761-aa62-4372-88ca-becc3592f3f8",
   "metadata": {},
   "outputs": [],
   "source": [
    "### Handling MasVnrType and MasVnrArea"
   ]
  },
  {
   "cell_type": "code",
   "execution_count": 53,
   "id": "5c7de1a5-621b-4441-9d31-2ae8ef583f1f",
   "metadata": {},
   "outputs": [
    {
     "data": {
      "text/plain": [
       "<Axes: ylabel='Id'>"
      ]
     },
     "execution_count": 53,
     "metadata": {},
     "output_type": "execute_result"
    },
    {
     "data": {
      "image/png": "[encoded data removed]",
      "text/plain": [
       "<Figure size 640x480 with 2 Axes>"
      ]
     },
     "metadata": {},
     "output_type": "display_data"
    }
   ],
   "source": [
    "sns.heatmap(df[[\"MasVnrType\", \"MasVnrArea\"]].isnull())"
   ]
  },
  {
   "cell_type": "code",
   "execution_count": 54,
   "id": "571631b0-9aa4-4973-869f-28837c89f43d",
   "metadata": {},
   "outputs": [
    {
     "data": {
      "text/plain": [
       "MasVnrType\n",
       "BrkFace    879\n",
       "Stone      249\n",
       "BrkCmn      25\n",
       "Name: count, dtype: int64"
      ]
     },
     "execution_count": 54,
     "metadata": {},
     "output_type": "execute_result"
    }
   ],
   "source": [
    "df[\"MasVnrType\"].value_counts()"
   ]
  },
  {
   "cell_type": "code",
   "execution_count": 55,
   "id": "1ed1aa25-55a6-4ec7-b403-041fa4654220",
   "metadata": {},
   "outputs": [
    {
     "data": {
      "text/plain": [
       "0"
      ]
     },
     "execution_count": 55,
     "metadata": {},
     "output_type": "execute_result"
    }
   ],
   "source": [
    "masvnrtype_cont = \"None\"\n",
    "df_mvi[\"MasVnrType\"].replace(np.nan, masvnrtype_cont, inplace = True)\n",
    "df_mvi[\"MasVnrType\"].isnull().sum()"
   ]
  },
  {
   "cell_type": "code",
   "execution_count": 56,
   "id": "cdff918e-eaa1-4884-8d13-66a93fb913f4",
   "metadata": {},
   "outputs": [
    {
     "name": "stderr",
     "output_type": "stream",
     "text": [
      "C:\\Users\\Abhinaya Siripurapu\\anaconda3\\Lib\\site-packages\\seaborn\\_oldcore.py:1119: FutureWarning: use_inf_as_na option is deprecated and will be removed in a future version. Convert inf values to NaN before operating instead.\n",
      "  with pd.option_context('mode.use_inf_as_na', True):\n"
     ]
    },
    {
     "data": {
      "image/png": "[encoded data removed]",
      "text/plain": [
       "<Figure size 1600x500 with 2 Axes>"
      ]
     },
     "metadata": {},
     "output_type": "display_data"
    }
   ],
   "source": [
    "boxHistPlot(df, \"MasVnrArea\")"
   ]
  },
  {
   "cell_type": "code",
   "execution_count": 57,
   "id": "ab8d24d9-ab02-48a8-a6d6-8c4677351006",
   "metadata": {},
   "outputs": [
    {
     "data": {
      "text/plain": [
       "0"
      ]
     },
     "execution_count": 57,
     "metadata": {},
     "output_type": "execute_result"
    }
   ],
   "source": [
    "masvnrarea_cont = 0\n",
    "df_mvi[\"MasVnrArea\"].replace(np.nan, masvnrarea_cont, inplace = True)\n",
    "df_mvi[\"MasVnrArea\"].isnull().sum()"
   ]
  },
  {
   "cell_type": "code",
   "execution_count": 58,
   "id": "f8eb984f-7071-4450-8dad-4cb23097f168",
   "metadata": {},
   "outputs": [],
   "source": [
    "### Handling Bsmt features "
   ]
  },
  {
   "cell_type": "code",
   "execution_count": 59,
   "id": "83d6c05a-d4da-401a-b6a3-0fba165bc9bb",
   "metadata": {},
   "outputs": [],
   "source": [
    "obj_bsmt_feat = [\"BsmtQual\", \"BsmtCond\", \"BsmtFinType1\", \"BsmtFinType2\"]\n",
    "int_bsmt_feat = [\"BsmtFinSF1\", \"BsmtFinSF2\",\"BsmtUnfSF\", \"TotalBsmtSF\", \"BsmtFullBath\", \"BsmtHalfBath\"]"
   ]
  },
  {
   "cell_type": "code",
   "execution_count": 60,
   "id": "6633a621-3eae-4401-a955-379472a6b16b",
   "metadata": {},
   "outputs": [
    {
     "data": {
      "text/plain": [
       "<Axes: ylabel='Id'>"
      ]
     },
     "execution_count": 60,
     "metadata": {},
     "output_type": "execute_result"
    },
    {
     "data": {
      "image/png": "[encoded data removed]",
      "text/plain": [
       "<Figure size 640x480 with 2 Axes>"
      ]
     },
     "metadata": {},
     "output_type": "display_data"
    }
   ],
   "source": [
    "sns.heatmap(df[obj_bsmt_feat].isnull())"
   ]
  },
  {
   "cell_type": "code",
   "execution_count": 61,
   "id": "89cf2f02-5de8-4b24-8976-b6aecdefdf12",
   "metadata": {},
   "outputs": [
    {
     "data": {
      "text/plain": [
       "<Axes: ylabel='Id'>"
      ]
     },
     "execution_count": 61,
     "metadata": {},
     "output_type": "execute_result"
    },
    {
     "data": {
      "image/png": "[encoded data removed]",
      "text/plain": [
       "<Figure size 640x480 with 2 Axes>"
      ]
     },
     "metadata": {},
     "output_type": "display_data"
    }
   ],
   "source": [
    "sns.heatmap(df[int_bsmt_feat].isnull())"
   ]
  },
  {
   "cell_type": "code",
   "execution_count": 62,
   "id": "dd7c0ea1-f104-4210-856a-23e4acb95f64",
   "metadata": {},
   "outputs": [
    {
     "name": "stdout",
     "output_type": "stream",
     "text": [
      "BsmtQual\n",
      "TA    1283\n",
      "Gd    1209\n",
      "Ex     258\n",
      "Fa      88\n",
      "Name: count, dtype: int64\n",
      "BsmtCond\n",
      "TA    2606\n",
      "Gd     122\n",
      "Fa     104\n",
      "Po       5\n",
      "Name: count, dtype: int64\n",
      "BsmtFinType1\n",
      "Unf    851\n",
      "GLQ    849\n",
      "ALQ    429\n",
      "Rec    288\n",
      "BLQ    269\n",
      "LwQ    154\n",
      "Name: count, dtype: int64\n",
      "BsmtFinType2\n",
      "Unf    2493\n",
      "Rec     105\n",
      "LwQ      87\n",
      "BLQ      68\n",
      "ALQ      52\n",
      "GLQ      34\n",
      "Name: count, dtype: int64\n"
     ]
    }
   ],
   "source": [
    "for feat in obj_bsmt_feat:\n",
    "    print(df[feat].value_counts())"
   ]
  },
  {
   "cell_type": "code",
   "execution_count": 63,
   "id": "ebb44a09-7c0a-4453-b8ae-c1dfe76135d1",
   "metadata": {},
   "outputs": [],
   "source": [
    "bsmt_cont = \"NA\"\n",
    "for feat in obj_bsmt_feat:\n",
    "    df_mvi[feat].replace(np.nan, bsmt_cont, inplace = True)"
   ]
  },
  {
   "cell_type": "code",
   "execution_count": 64,
   "id": "019a0082-ffba-45e8-8e45-51559fc7a472",
   "metadata": {},
   "outputs": [
    {
     "data": {
      "text/plain": [
       "BsmtQual        0\n",
       "BsmtCond        0\n",
       "BsmtFinType1    0\n",
       "BsmtFinType2    0\n",
       "dtype: int64"
      ]
     },
     "execution_count": 64,
     "metadata": {},
     "output_type": "execute_result"
    }
   ],
   "source": [
    "df_mvi[obj_bsmt_feat].isnull().sum()"
   ]
  },
  {
   "cell_type": "code",
   "execution_count": 65,
   "id": "6d740645-8cf8-4eaa-a9cc-5c7a6d5b6247",
   "metadata": {},
   "outputs": [],
   "source": [
    "bsmt_int_cont = 0\n",
    "for feat in int_bsmt_feat:\n",
    "    df_mvi[feat].replace(np.nan, bsmt_int_cont, inplace = True)"
   ]
  },
  {
   "cell_type": "code",
   "execution_count": 66,
   "id": "7bb90a2d-e7ef-43a5-9225-fd10ae351b85",
   "metadata": {},
   "outputs": [
    {
     "data": {
      "text/plain": [
       "BsmtFinSF1      0\n",
       "BsmtFinSF2      0\n",
       "BsmtUnfSF       0\n",
       "TotalBsmtSF     0\n",
       "BsmtFullBath    0\n",
       "BsmtHalfBath    0\n",
       "dtype: int64"
      ]
     },
     "execution_count": 66,
     "metadata": {},
     "output_type": "execute_result"
    }
   ],
   "source": [
    "df_mvi[int_bsmt_feat].isnull().sum()"
   ]
  },
  {
   "cell_type": "code",
   "execution_count": 67,
   "id": "a9465c10-ec22-4537-94da-fd12358b82c4",
   "metadata": {},
   "outputs": [],
   "source": [
    "### Handling KitchenQual and Electrical "
   ]
  },
  {
   "cell_type": "code",
   "execution_count": 68,
   "id": "a08ae84d-3a0d-4322-92b5-b675c521147a",
   "metadata": {},
   "outputs": [
    {
     "data": {
      "text/plain": [
       "Electrical\n",
       "SBrkr    2671\n",
       "FuseA     188\n",
       "FuseF      50\n",
       "FuseP       8\n",
       "Mix         1\n",
       "Name: count, dtype: int64"
      ]
     },
     "execution_count": 68,
     "metadata": {},
     "output_type": "execute_result"
    }
   ],
   "source": [
    "df[\"Electrical\"].value_counts()\n"
   ]
  },
  {
   "cell_type": "code",
   "execution_count": 69,
   "id": "e2a02798-070c-47ae-a4f2-7b50d24616b6",
   "metadata": {},
   "outputs": [
    {
     "data": {
      "text/plain": [
       "KitchenQual\n",
       "TA    1492\n",
       "Gd    1151\n",
       "Ex     205\n",
       "Fa      70\n",
       "Name: count, dtype: int64"
      ]
     },
     "execution_count": 69,
     "metadata": {},
     "output_type": "execute_result"
    }
   ],
   "source": [
    "df[\"KitchenQual\"].value_counts()"
   ]
  },
  {
   "cell_type": "code",
   "execution_count": 70,
   "id": "2f53394d-5170-4d11-baf4-7418114764f8",
   "metadata": {},
   "outputs": [
    {
     "data": {
      "text/html": [
       "<div>\n",
       "<style scoped>\n",
       "    .dataframe tbody tr th:only-of-type {\n",
       "        vertical-align: middle;\n",
       "    }\n",
       "\n",
       "    .dataframe tbody tr th {\n",
       "        vertical-align: top;\n",
       "    }\n",
       "\n",
       "    .dataframe thead th {\n",
       "        text-align: right;\n",
       "    }\n",
       "</style>\n",
       "<table border=\"1\" class=\"dataframe\">\n",
       "  <thead>\n",
       "    <tr style=\"text-align: right;\">\n",
       "      <th></th>\n",
       "      <th>Electrical</th>\n",
       "      <th>KitchenQual</th>\n",
       "      <th>KitchenAbvGr</th>\n",
       "    </tr>\n",
       "    <tr>\n",
       "      <th>Id</th>\n",
       "      <th></th>\n",
       "      <th></th>\n",
       "      <th></th>\n",
       "    </tr>\n",
       "  </thead>\n",
       "  <tbody>\n",
       "    <tr>\n",
       "      <th>1380</th>\n",
       "      <td>NaN</td>\n",
       "      <td>Gd</td>\n",
       "      <td>1</td>\n",
       "    </tr>\n",
       "    <tr>\n",
       "      <th>1556</th>\n",
       "      <td>SBrkr</td>\n",
       "      <td>NaN</td>\n",
       "      <td>1</td>\n",
       "    </tr>\n",
       "  </tbody>\n",
       "</table>\n",
       "</div>"
      ],
      "text/plain": [
       "     Electrical KitchenQual  KitchenAbvGr\n",
       "Id                                       \n",
       "1380        NaN          Gd             1\n",
       "1556      SBrkr         NaN             1"
      ]
     },
     "execution_count": 70,
     "metadata": {},
     "output_type": "execute_result"
    }
   ],
   "source": [
    "df_ekk = df[[\"Electrical\", \"KitchenQual\", \"KitchenAbvGr\"]]\n",
    "df_ekk[df_ekk.isnull().any(axis = 1)]"
   ]
  },
  {
   "cell_type": "code",
   "execution_count": 71,
   "id": "f02add19-3465-40c5-979e-5f6d398352ef",
   "metadata": {},
   "outputs": [
    {
     "data": {
      "text/plain": [
       "0"
      ]
     },
     "execution_count": 71,
     "metadata": {},
     "output_type": "execute_result"
    }
   ],
   "source": [
    "electrical_mode = df[\"Electrical\"].mode()[0]\n",
    "df_mvi[\"Electrical\"].replace(np.nan, electrical_mode, inplace = True)\n",
    "df_mvi[\"Electrical\"].isnull().sum()"
   ]
  },
  {
   "cell_type": "markdown",
   "id": "9d54f5e5",
   "metadata": {},
   "source": []
  },
  {
   "cell_type": "code",
   "execution_count": 72,
   "id": "0fcc5778-f873-404c-9c74-3787579d9c98",
   "metadata": {},
   "outputs": [
    {
     "data": {
      "text/plain": [
       "0"
      ]
     },
     "execution_count": 72,
     "metadata": {},
     "output_type": "execute_result"
    }
   ],
   "source": [
    "kitchqual_mode = df[\"KitchenQual\"].mode()[0]\n",
    "df_mvi[\"KitchenQual\"].replace(np.nan, kitchqual_mode, inplace = True)\n",
    "df_mvi[\"KitchenQual\"].isnull().sum()"
   ]
  },
  {
   "cell_type": "code",
   "execution_count": 73,
   "id": "bfc05605-eb74-4727-87e1-3090bf8f065a",
   "metadata": {},
   "outputs": [],
   "source": [
    "### Handling Functional FireplaceQu PoolQC Fence MiscFeature SaleType"
   ]
  },
  {
   "cell_type": "code",
   "execution_count": 74,
   "id": "5047236f-7971-4456-9538-0dd38ce648fd",
   "metadata": {},
   "outputs": [
    {
     "data": {
      "text/plain": [
       "0"
      ]
     },
     "execution_count": 74,
     "metadata": {},
     "output_type": "execute_result"
    }
   ],
   "source": [
    "functional_mode = df[\"Functional\"].mode()[0]\n",
    "df_mvi[\"Functional\"].replace(np.nan, functional_mode, inplace = True)\n",
    "df_mvi[\"Functional\"].isnull().sum()"
   ]
  },
  {
   "cell_type": "code",
   "execution_count": 75,
   "id": "0b9f71c1-a77b-4a5b-b145-d82c00ba22c9",
   "metadata": {},
   "outputs": [
    {
     "data": {
      "text/plain": [
       "0"
      ]
     },
     "execution_count": 75,
     "metadata": {},
     "output_type": "execute_result"
    }
   ],
   "source": [
    "saletype_mode = df[\"SaleType\"].mode()[0]\n",
    "df_mvi[\"SaleType\"].replace(np.nan, saletype_mode, inplace = True)\n",
    "df_mvi[\"SaleType\"].isnull().sum()"
   ]
  },
  {
   "cell_type": "code",
   "execution_count": 76,
   "id": "b53e01d5-2465-4b51-bdc4-d3054a91b075",
   "metadata": {},
   "outputs": [
    {
     "data": {
      "text/plain": [
       "0"
      ]
     },
     "execution_count": 76,
     "metadata": {},
     "output_type": "execute_result"
    }
   ],
   "source": [
    "fireplacequ_cont = \"NA\"\n",
    "df_mvi[\"FireplaceQu\"].replace(np.nan,fireplacequ_cont, inplace = True)\n",
    "df_mvi[\"FireplaceQu\"].isnull().sum()"
   ]
  },
  {
   "cell_type": "code",
   "execution_count": 77,
   "id": "f5e2b444-3b05-41d6-bcde-52aa54c6ebbf",
   "metadata": {},
   "outputs": [
    {
     "data": {
      "text/plain": [
       "0"
      ]
     },
     "execution_count": 77,
     "metadata": {},
     "output_type": "execute_result"
    }
   ],
   "source": [
    "fence_cont = \"NA\"\n",
    "df_mvi[\"Fence\"].replace(np.nan,fence_cont, inplace = True)\n",
    "df_mvi[\"Fence\"].isnull().sum()"
   ]
  },
  {
   "cell_type": "code",
   "execution_count": 78,
   "id": "4f247578-5f4c-4cf8-830b-2d67fe96a58a",
   "metadata": {},
   "outputs": [
    {
     "data": {
      "text/plain": [
       "0"
      ]
     },
     "execution_count": 78,
     "metadata": {},
     "output_type": "execute_result"
    }
   ],
   "source": [
    "poolqc_cont = \"NA\"\n",
    "df_mvi[\"PoolQC\"].replace(np.nan,poolqc_cont, inplace = True)\n",
    "df_mvi[\"PoolQC\"].isnull().sum()\n",
    "misc_cont = \"NA\"\n",
    "df_mvi[\"MiscFeature\"].replace(np.nan,misc_cont, inplace = True)\n",
    "df_mvi[\"MiscFeature\"].isnull().sum()\n"
   ]
  },
  {
   "cell_type": "code",
   "execution_count": 79,
   "id": "bb43de05-eef5-4045-b255-a10998aba858",
   "metadata": {},
   "outputs": [],
   "source": [
    "### Haandling Garage Features"
   ]
  },
  {
   "cell_type": "code",
   "execution_count": 80,
   "id": "2761aed5-b471-483f-8409-f2134004e415",
   "metadata": {},
   "outputs": [],
   "source": [
    "obj_garage_feat = [\"GarageType\", \"GarageFinish\", \"GarageQual\", \"GarageCond\"]\n",
    "int_garage_feat = [\"GarageYrBlt\", \"GarageCars\", \"GarageArea\"]"
   ]
  },
  {
   "cell_type": "code",
   "execution_count": 81,
   "id": "4906f6d0-7dbc-484c-b04c-f0359067a033",
   "metadata": {},
   "outputs": [
    {
     "data": {
      "text/plain": [
       "GarageType      0\n",
       "GarageFinish    0\n",
       "GarageQual      0\n",
       "GarageCond      0\n",
       "dtype: int64"
      ]
     },
     "execution_count": 81,
     "metadata": {},
     "output_type": "execute_result"
    }
   ],
   "source": [
    "garage_cont = \"NA\"\n",
    "for feat in obj_garage_feat:\n",
    "    df_mvi[feat].replace(np.nan, garage_cont, inplace = True)\n",
    "\n",
    "df_mvi[obj_garage_feat].isnull().sum()"
   ]
  },
  {
   "cell_type": "code",
   "execution_count": 82,
   "id": "e4a9d352-233e-4862-9521-b3ffd28f1dd1",
   "metadata": {},
   "outputs": [
    {
     "data": {
      "text/plain": [
       "GarageYrBlt    0\n",
       "GarageCars     0\n",
       "GarageArea     0\n",
       "dtype: int64"
      ]
     },
     "execution_count": 82,
     "metadata": {},
     "output_type": "execute_result"
    }
   ],
   "source": [
    "garage_int_cont = 0\n",
    "for feat in int_garage_feat:\n",
    "    df_mvi[feat].replace(np.nan, garage_int_cont, inplace = True)\n",
    "\n",
    "df_mvi[int_garage_feat].isnull().sum()"
   ]
  },
  {
   "cell_type": "code",
   "execution_count": 83,
   "id": "4a2453d0-07ae-47cc-b726-6ee11e6962aa",
   "metadata": {},
   "outputs": [],
   "source": [
    "## Feature Tranformation"
   ]
  },
  {
   "cell_type": "code",
   "execution_count": 84,
   "id": "21c68855-bddf-47f9-9eff-5e78335939ae",
   "metadata": {},
   "outputs": [],
   "source": [
    "### Convert Numerical Feature to Categorical Feature "
   ]
  },
  {
   "cell_type": "code",
   "execution_count": 85,
   "id": "6befe82d-abae-4076-80d4-ebe7a6199a57",
   "metadata": {},
   "outputs": [
    {
     "name": "stdout",
     "output_type": "stream",
     "text": [
      "MSSubClass int64\n",
      "YearBuilt int64\n",
      "YearRemodAdd int64\n",
      "GarageYrBlt float64\n",
      "MoSold int64\n",
      "YrSold int64\n"
     ]
    }
   ],
   "source": [
    "for_num_conv = [\"MSSubClass\", \"YearBuilt\", \"YearRemodAdd\", \"GarageYrBlt\", \"MoSold\", \"YrSold\"]\n",
    "for feat in for_num_conv :\n",
    "    print(feat, df_mvi[feat].dtype)"
   ]
  },
  {
   "cell_type": "code",
   "execution_count": 86,
   "id": "698323b7-5223-4170-bb52-8c8e3685d633",
   "metadata": {},
   "outputs": [
    {
     "data": {
      "text/plain": [
       "array([ 2,  5,  9, 12, 10,  8, 11,  4,  1,  7,  3,  6], dtype=int64)"
      ]
     },
     "execution_count": 86,
     "metadata": {},
     "output_type": "execute_result"
    }
   ],
   "source": [
    "df_mvi[\"MoSold\"].unique()"
   ]
  },
  {
   "cell_type": "code",
   "execution_count": 87,
   "id": "7b0e483e-f3b6-4da5-a56a-d227684f94e1",
   "metadata": {},
   "outputs": [
    {
     "data": {
      "text/plain": [
       "'Jan'"
      ]
     },
     "execution_count": 87,
     "metadata": {},
     "output_type": "execute_result"
    }
   ],
   "source": [
    "import calendar\n",
    "\n",
    "calendar.month_abbr[1]"
   ]
  },
  {
   "cell_type": "code",
   "execution_count": 88,
   "id": "f514e2aa-3a55-4d0c-a9ff-9d91f2a301be",
   "metadata": {},
   "outputs": [
    {
     "data": {
      "text/plain": [
       "array(['Feb', 'May', 'Sep', 'Dec', 'Oct', 'Aug', 'Nov', 'Apr', 'Jan',\n",
       "       'Jul', 'Mar', 'Jun'], dtype=object)"
      ]
     },
     "execution_count": 88,
     "metadata": {},
     "output_type": "execute_result"
    }
   ],
   "source": [
    "df_mvi[\"MoSold\"] = df_mvi[\"MoSold\"].apply(lambda x : calendar.month_abbr[x])\n",
    "df_mvi[\"MoSold\"].unique()"
   ]
  },
  {
   "cell_type": "code",
   "execution_count": 89,
   "id": "84360c67-dabf-4425-bfe9-4af3d9ef182a",
   "metadata": {},
   "outputs": [],
   "source": [
    "for feat in for_num_conv :\n",
    "    df_mvi[feat] = df_mvi[feat].astype(str)"
   ]
  },
  {
   "cell_type": "code",
   "execution_count": 90,
   "id": "0be2df67-150b-4fd6-bb4d-60dd84f7edae",
   "metadata": {},
   "outputs": [
    {
     "name": "stdout",
     "output_type": "stream",
     "text": [
      "MSSubClass object\n",
      "YearBuilt object\n",
      "YearRemodAdd object\n",
      "GarageYrBlt object\n",
      "MoSold object\n",
      "YrSold object\n"
     ]
    }
   ],
   "source": [
    "for feat in for_num_conv :\n",
    "    print(feat, df_mvi[feat].dtype)"
   ]
  },
  {
   "cell_type": "code",
   "execution_count": 91,
   "id": "21fa6edf-0a49-4419-9928-855949351cfb",
   "metadata": {},
   "outputs": [],
   "source": [
    "### Convert Categorical Feature to Numerical Feature "
   ]
  },
  {
   "cell_type": "code",
   "execution_count": 92,
   "id": "68c600c3-beb2-4e30-85df-16f6168fc3dd",
   "metadata": {},
   "outputs": [],
   "source": [
    "#### Ordinal Encoding"
   ]
  },
  {
   "cell_type": "code",
   "execution_count": 93,
   "id": "ff443330-0f92-413c-9f59-d8367c1c9e05",
   "metadata": {},
   "outputs": [
    {
     "name": "stdout",
     "output_type": "stream",
     "text": [
      "18\n"
     ]
    }
   ],
   "source": [
    "ordinal_end_var = [\n",
    "    \"ExterCond\",\n",
    "    \"ExterQual\",\n",
    "    \"BsmtQual\",\n",
    "    \"BsmtCond\",\n",
    "    \"BsmtExposure\",\n",
    "    \"BsmtFinType1\",\n",
    "    \"BsmtFinType2\",\n",
    "    \"BsmtFinSF1\",\n",
    "    \"HeatingQC\",\n",
    "    \"KitchenQual\",\n",
    "    \"FireplaceQu\",\n",
    "    \"GarageQual\",\n",
    "    \"GarageCond\",\n",
    "    \"PoolQC\",\n",
    "    \"Functional\",\n",
    "    \"GarageFinish\",\n",
    "    \"PavedDrive\",\n",
    "    \"Utlilities\"]\n",
    "print(len(ordinal_end_var))  "
   ]
  },
  {
   "cell_type": "code",
   "execution_count": 94,
   "id": "00cffe8f-5769-4b2e-aea3-b241da593ab9",
   "metadata": {},
   "outputs": [],
   "source": [
    "df_mvi[\"ExterQual\"] = df_mvi[\"ExterQual\"].astype(CategoricalDtype(categories=['Po', 'Fa', 'TA','Gd', 'Ex', ], ordered = True)).cat.codes"
   ]
  },
  {
   "cell_type": "code",
   "execution_count": 95,
   "id": "984d02e7-34a1-4da1-8a32-3cb52c555242",
   "metadata": {},
   "outputs": [
    {
     "data": {
      "text/plain": [
       "array([3, 2, 4, 1], dtype=int8)"
      ]
     },
     "execution_count": 95,
     "metadata": {},
     "output_type": "execute_result"
    }
   ],
   "source": [
    "df_mvi[\"ExterQual\"].unique()"
   ]
  },
  {
   "cell_type": "code",
   "execution_count": 96,
   "id": "a85591bf-1dc2-417d-8875-b650af35bde1",
   "metadata": {},
   "outputs": [
    {
     "data": {
      "text/plain": [
       "ExterQual\n",
       "2    1798\n",
       "3     979\n",
       "4     107\n",
       "1      35\n",
       "Name: count, dtype: int64"
      ]
     },
     "execution_count": 96,
     "metadata": {},
     "output_type": "execute_result"
    }
   ],
   "source": [
    "df_mvi[\"ExterQual\"].value_counts()"
   ]
  },
  {
   "cell_type": "code",
   "execution_count": 97,
   "id": "acd5ca90-bdbe-42b4-a41e-21bd4fd7028a",
   "metadata": {},
   "outputs": [
    {
     "data": {
      "text/plain": [
       "BsmtExposure\n",
       "No    1904\n",
       "Av     418\n",
       "Gd     276\n",
       "Mn     239\n",
       "Name: count, dtype: int64"
      ]
     },
     "execution_count": 97,
     "metadata": {},
     "output_type": "execute_result"
    }
   ],
   "source": [
    "df_mvi[\"BsmtExposure\"].value_counts()"
   ]
  },
  {
   "cell_type": "code",
   "execution_count": 98,
   "id": "19ff564f-a1b1-46c3-a4c6-f59e79c7a1a1",
   "metadata": {},
   "outputs": [
    {
     "data": {
      "text/plain": [
       "array(['No', 'Gd', 'Mn', 'Av', nan], dtype=object)"
      ]
     },
     "execution_count": 98,
     "metadata": {},
     "output_type": "execute_result"
    }
   ],
   "source": [
    "df_mvi[\"BsmtExposure\"].unique()"
   ]
  },
  {
   "cell_type": "code",
   "execution_count": null,
   "id": "b63edc6a-767c-4517-a7da-418e73561b9f",
   "metadata": {},
   "outputs": [],
   "source": [
    "df_mvi[\"BsmtExposure\"] = df_mvi[\"BsmtExposure\"].astype(CategoricalDtype(categories=['NA', 'No', 'Mn', 'Av', 'Gd',  ], ordered = True)).cat.codes"
   ]
  },
  {
   "cell_type": "code",
   "execution_count": 100,
   "id": "2d639709-0205-4090-9835-f23003a219c9",
   "metadata": {},
   "outputs": [
    {
     "data": {
      "text/plain": [
       "BsmtExposure\n",
       " 1    1904\n",
       " 3     418\n",
       " 4     276\n",
       " 2     239\n",
       "-1      82\n",
       "Name: count, dtype: int64"
      ]
     },
     "execution_count": 100,
     "metadata": {},
     "output_type": "execute_result"
    }
   ],
   "source": [
    "df_mvi[\"BsmtExposure\"].value_counts()"
   ]
  },
  {
   "cell_type": "code",
   "execution_count": 101,
   "id": "a1a2d5cd-d8dd-4bf8-9d15-167ded9d5a82",
   "metadata": {},
   "outputs": [],
   "source": [
    "df_mvi['ExterCond'] = df_mvi['ExterCond'].astype(CategoricalDtype(categories=['Po', 'Fa', 'TA', 'Gd', 'Ex'], ordered=True)).cat.codes\n",
    "df_mvi['BsmtQual'] = df_mvi['BsmtQual'].astype(CategoricalDtype(categories=['NA', 'Po', 'Fa', 'TA', 'Gd', 'Ex'], ordered=True)).cat.codes\n",
    "df_mvi['BsmtCond'] = df_mvi['BsmtCond'].astype(CategoricalDtype(categories=['NA', 'Po', 'Fa', 'TA', 'Gd', 'Ex'], ordered=True)).cat.codes\n",
    "df_mvi['BsmtFinType1'] = df_mvi['BsmtFinType1'].astype(CategoricalDtype(categories=['NA', 'Unf', 'LwQ', 'Rec', 'BLQ', 'ALQ', 'GLQ'], ordered=True)).cat.codes\n",
    "df_mvi['BsmtFinType2'] = df_mvi['BsmtFinType2'].astype(CategoricalDtype(categories=['NA', 'Unf', 'LwQ', 'Rec', 'BLQ', 'ALQ', 'GLQ'], ordered=True)).cat.codes\n",
    "df_mvi['HeatingQC'] = df_mvi['HeatingQC'].astype(CategoricalDtype(categories=['Po', 'Fa', 'TA', 'Gd', 'Ex'], ordered=True)).cat.codes\n",
    "df_mvi['KitchenQual'] = df_mvi['KitchenQual'].astype(CategoricalDtype(categories=['Po', 'Fa', 'TA', 'Gd', 'Ex'], ordered=True)).cat.codes\n",
    "df_mvi['FireplaceQu'] = df_mvi['FireplaceQu'].astype(CategoricalDtype(categories=['NA', 'Po', 'Fa', 'TA', 'Gd', 'Ex'], ordered=True)).cat.codes\n",
    "df_mvi['GarageQual'] = df_mvi['GarageQual'].astype(CategoricalDtype(categories=['NA', 'Po', 'Fa', 'TA', 'Gd', 'Ex'], ordered=True)).cat.codes\n",
    "df_mvi['GarageCond'] = df_mvi['GarageCond'].astype(CategoricalDtype(categories=['NA', 'Po', 'Fa', 'TA', 'Gd', 'Ex'], ordered=True)).cat.codes\n",
    "df_mvi['PoolQC'] = df_mvi['PoolQC'].astype(CategoricalDtype(categories=['NA', 'Fa', 'TA', 'Gd', 'Ex'], ordered=True)).cat.codes\n",
    "df_mvi['Functional'] = df_mvi['Functional'].astype(CategoricalDtype(categories=['Sal', 'Sev', 'Maj2', 'Maj1', 'Mod', 'Min2', 'Min1', 'Typ'], ordered=True)).cat.codes\n",
    "df_mvi['GarageFinish'] = df_mvi['GarageFinish'].astype(CategoricalDtype(categories=['NA', 'Unf', 'RFn', 'Fin'], ordered=True)).cat.codes\n",
    "df_mvi['PavedDrive'] = df_mvi['PavedDrive'].astype(CategoricalDtype(categories=['N', 'P', 'Y'], ordered=True)).cat.codes\n",
    "df_mvi['Utilities'] = df_mvi['Utilities'].astype(CategoricalDtype(categories=['ELO', 'NASeWa', 'NASeWr', 'AllPub'], ordered=True)).cat.codes\n"
   ]
  },
  {
   "cell_type": "code",
   "execution_count": 102,
   "id": "658d90d2-c72d-46a1-b821-1cebb9bc8781",
   "metadata": {},
   "outputs": [
    {
     "name": "stdout",
     "output_type": "stream",
     "text": [
      "<class 'pandas.core.frame.DataFrame'>\n",
      "Index: 2919 entries, 1 to 2919\n",
      "Data columns (total 80 columns):\n",
      " #   Column         Non-Null Count  Dtype  \n",
      "---  ------         --------------  -----  \n",
      " 0   MSSubClass     2919 non-null   object \n",
      " 1   MSZoning       2919 non-null   object \n",
      " 2   LotFrontage    2919 non-null   float64\n",
      " 3   LotArea        2919 non-null   int64  \n",
      " 4   Street         2919 non-null   object \n",
      " 5   Alley          2919 non-null   object \n",
      " 6   LotShape       2919 non-null   object \n",
      " 7   LandContour    2919 non-null   object \n",
      " 8   Utilities      2919 non-null   int8   \n",
      " 9   LotConfig      2919 non-null   object \n",
      " 10  LandSlope      2919 non-null   object \n",
      " 11  Neighborhood   2919 non-null   object \n",
      " 12  Condition1     2919 non-null   object \n",
      " 13  Condition2     2919 non-null   object \n",
      " 14  BldgType       2919 non-null   object \n",
      " 15  HouseStyle     2919 non-null   object \n",
      " 16  OverallQual    2919 non-null   int64  \n",
      " 17  OverallCond    2919 non-null   int64  \n",
      " 18  YearBuilt      2919 non-null   object \n",
      " 19  YearRemodAdd   2919 non-null   object \n",
      " 20  RoofStyle      2919 non-null   object \n",
      " 21  RoofMatl       2919 non-null   object \n",
      " 22  Exterior1st    2919 non-null   object \n",
      " 23  Exterior2nd    2919 non-null   object \n",
      " 24  MasVnrType     2919 non-null   object \n",
      " 25  MasVnrArea     2919 non-null   float64\n",
      " 26  ExterQual      2919 non-null   int8   \n",
      " 27  ExterCond      2919 non-null   int8   \n",
      " 28  Foundation     2919 non-null   object \n",
      " 29  BsmtQual       2919 non-null   int8   \n",
      " 30  BsmtCond       2919 non-null   int8   \n",
      " 31  BsmtExposure   2919 non-null   int8   \n",
      " 32  BsmtFinType1   2919 non-null   int8   \n",
      " 33  BsmtFinSF1     2919 non-null   float64\n",
      " 34  BsmtFinType2   2919 non-null   int8   \n",
      " 35  BsmtFinSF2     2919 non-null   float64\n",
      " 36  BsmtUnfSF      2919 non-null   float64\n",
      " 37  TotalBsmtSF    2919 non-null   float64\n",
      " 38  Heating        2919 non-null   object \n",
      " 39  HeatingQC      2919 non-null   int8   \n",
      " 40  CentralAir     2919 non-null   object \n",
      " 41  Electrical     2919 non-null   object \n",
      " 42  1stFlrSF       2919 non-null   int64  \n",
      " 43  2ndFlrSF       2919 non-null   int64  \n",
      " 44  LowQualFinSF   2919 non-null   int64  \n",
      " 45  GrLivArea      2919 non-null   int64  \n",
      " 46  BsmtFullBath   2919 non-null   float64\n",
      " 47  BsmtHalfBath   2919 non-null   float64\n",
      " 48  FullBath       2919 non-null   int64  \n",
      " 49  HalfBath       2919 non-null   int64  \n",
      " 50  BedroomAbvGr   2919 non-null   int64  \n",
      " 51  KitchenAbvGr   2919 non-null   int64  \n",
      " 52  KitchenQual    2919 non-null   int8   \n",
      " 53  TotRmsAbvGrd   2919 non-null   int64  \n",
      " 54  Functional     2919 non-null   int8   \n",
      " 55  Fireplaces     2919 non-null   int64  \n",
      " 56  FireplaceQu    2919 non-null   int8   \n",
      " 57  GarageType     2919 non-null   object \n",
      " 58  GarageYrBlt    2919 non-null   object \n",
      " 59  GarageFinish   2919 non-null   int8   \n",
      " 60  GarageCars     2919 non-null   float64\n",
      " 61  GarageArea     2919 non-null   float64\n",
      " 62  GarageQual     2919 non-null   int8   \n",
      " 63  GarageCond     2919 non-null   int8   \n",
      " 64  PavedDrive     2919 non-null   int8   \n",
      " 65  WoodDeckSF     2919 non-null   int64  \n",
      " 66  OpenPorchSF    2919 non-null   int64  \n",
      " 67  EnclosedPorch  2919 non-null   int64  \n",
      " 68  3SsnPorch      2919 non-null   int64  \n",
      " 69  ScreenPorch    2919 non-null   int64  \n",
      " 70  PoolArea       2919 non-null   int64  \n",
      " 71  PoolQC         2919 non-null   int8   \n",
      " 72  Fence          2919 non-null   object \n",
      " 73  MiscFeature    2919 non-null   object \n",
      " 74  MiscVal        2919 non-null   int64  \n",
      " 75  MoSold         2919 non-null   object \n",
      " 76  YrSold         2919 non-null   object \n",
      " 77  SaleType       2919 non-null   object \n",
      " 78  SaleCondition  2919 non-null   object \n",
      " 79  SalePrice      1460 non-null   float64\n",
      "dtypes: float64(11), int64(20), int8(17), object(32)\n",
      "memory usage: 1.5+ MB\n"
     ]
    }
   ],
   "source": [
    "df_mvi.info()"
   ]
  },
  {
   "cell_type": "code",
   "execution_count": null,
   "id": "d4e56e36-1d9a-4549-abd8-a92cb067e7e1",
   "metadata": {},
   "outputs": [],
   "source": [
    "## One Hot Encoding for nominal Categorical Data"
   ]
  },
  {
   "cell_type": "code",
   "execution_count": null,
   "id": "a5a8808e-217f-49ef-b3f8-e58e5452eb98",
   "metadata": {},
   "outputs": [
    {
     "name": "stdout",
     "output_type": "stream",
     "text": [
      "32\n",
      "['MSSubClass', 'MSZoning', 'Street', 'Alley', 'LotShape', 'LandContour', 'LotConfig', 'LandSlope', 'Neighborhood', 'Condition1', 'Condition2', 'BldgType', 'HouseStyle', 'YearBuilt', 'YearRemodAdd', 'RoofStyle', 'RoofMatl', 'Exterior1st', 'Exterior2nd', 'MasVnrType', 'Foundation', 'Heating', 'CentralAir', 'Electrical', 'GarageType', 'GarageYrBlt', 'Fence', 'MiscFeature', 'MoSold', 'YrSold', 'SaleType', 'SaleCondition']\n"
     ]
    }
   ],
   "source": [
    "df_enco = df_mvi.copy()\n",
    "\n",
    "object_features = df_enco.select_dtypes(include = \"object\").columns.tolist()\n",
    "print(len(object_features))\n",
    "print(object_features)"
   ]
  },
  {
   "cell_type": "code",
   "execution_count": 127,
   "id": "9346e55a-b644-4c5d-aae9-f062bd31f3c1",
   "metadata": {},
   "outputs": [],
   "source": [
    "df_enco = pd.get_dummies(df_enco, columns=object_features, prefix=object_features, drop_first=True)"
   ]
  },
  {
   "cell_type": "code",
   "execution_count": 128,
   "id": "957c5fbe-3454-4eeb-83ab-49dea1c510ea",
   "metadata": {},
   "outputs": [
    {
     "data": {
      "text/plain": [
       "MSZoning_RL\n",
       "True     2269\n",
       "False     650\n",
       "Name: count, dtype: int64"
      ]
     },
     "execution_count": 128,
     "metadata": {},
     "output_type": "execute_result"
    }
   ],
   "source": [
    "df_enco['MSZoning_RL'].value_counts()"
   ]
  },
  {
   "cell_type": "code",
   "execution_count": 129,
   "id": "3c6db2ec-671d-4afc-be07-e69d229e2257",
   "metadata": {},
   "outputs": [
    {
     "data": {
      "text/html": [
       "<div>\n",
       "<style scoped>\n",
       "    .dataframe tbody tr th:only-of-type {\n",
       "        vertical-align: middle;\n",
       "    }\n",
       "\n",
       "    .dataframe tbody tr th {\n",
       "        vertical-align: top;\n",
       "    }\n",
       "\n",
       "    .dataframe thead th {\n",
       "        text-align: right;\n",
       "    }\n",
       "</style>\n",
       "<table border=\"1\" class=\"dataframe\">\n",
       "  <thead>\n",
       "    <tr style=\"text-align: right;\">\n",
       "      <th></th>\n",
       "      <th>MSZoning_FV</th>\n",
       "      <th>MSZoning_RH</th>\n",
       "      <th>MSZoning_RL</th>\n",
       "      <th>MSZoning_RM</th>\n",
       "    </tr>\n",
       "    <tr>\n",
       "      <th>Id</th>\n",
       "      <th></th>\n",
       "      <th></th>\n",
       "      <th></th>\n",
       "      <th></th>\n",
       "    </tr>\n",
       "  </thead>\n",
       "  <tbody>\n",
       "    <tr>\n",
       "      <th>1</th>\n",
       "      <td>False</td>\n",
       "      <td>False</td>\n",
       "      <td>True</td>\n",
       "      <td>False</td>\n",
       "    </tr>\n",
       "    <tr>\n",
       "      <th>2</th>\n",
       "      <td>False</td>\n",
       "      <td>False</td>\n",
       "      <td>True</td>\n",
       "      <td>False</td>\n",
       "    </tr>\n",
       "    <tr>\n",
       "      <th>3</th>\n",
       "      <td>False</td>\n",
       "      <td>False</td>\n",
       "      <td>True</td>\n",
       "      <td>False</td>\n",
       "    </tr>\n",
       "    <tr>\n",
       "      <th>4</th>\n",
       "      <td>False</td>\n",
       "      <td>False</td>\n",
       "      <td>True</td>\n",
       "      <td>False</td>\n",
       "    </tr>\n",
       "    <tr>\n",
       "      <th>5</th>\n",
       "      <td>False</td>\n",
       "      <td>False</td>\n",
       "      <td>True</td>\n",
       "      <td>False</td>\n",
       "    </tr>\n",
       "  </tbody>\n",
       "</table>\n",
       "</div>"
      ],
      "text/plain": [
       "    MSZoning_FV  MSZoning_RH  MSZoning_RL  MSZoning_RM\n",
       "Id                                                    \n",
       "1         False        False         True        False\n",
       "2         False        False         True        False\n",
       "3         False        False         True        False\n",
       "4         False        False         True        False\n",
       "5         False        False         True        False"
      ]
     },
     "execution_count": 129,
     "metadata": {},
     "output_type": "execute_result"
    }
   ],
   "source": [
    "df_enco.filter(like='MSZoning').head()\n"
   ]
  },
  {
   "cell_type": "code",
   "execution_count": 130,
   "id": "ef172131-1d2b-4624-a7b0-784a24edc0c4",
   "metadata": {},
   "outputs": [
    {
     "data": {
      "text/html": [
       "<div>\n",
       "<style scoped>\n",
       "    .dataframe tbody tr th:only-of-type {\n",
       "        vertical-align: middle;\n",
       "    }\n",
       "\n",
       "    .dataframe tbody tr th {\n",
       "        vertical-align: top;\n",
       "    }\n",
       "\n",
       "    .dataframe thead th {\n",
       "        text-align: right;\n",
       "    }\n",
       "</style>\n",
       "<table border=\"1\" class=\"dataframe\">\n",
       "  <thead>\n",
       "    <tr style=\"text-align: right;\">\n",
       "      <th></th>\n",
       "      <th>MSZoning_RL_False</th>\n",
       "      <th>MSZoning_RL_True</th>\n",
       "    </tr>\n",
       "    <tr>\n",
       "      <th>Id</th>\n",
       "      <th></th>\n",
       "      <th></th>\n",
       "    </tr>\n",
       "  </thead>\n",
       "  <tbody>\n",
       "    <tr>\n",
       "      <th>1</th>\n",
       "      <td>False</td>\n",
       "      <td>True</td>\n",
       "    </tr>\n",
       "    <tr>\n",
       "      <th>2</th>\n",
       "      <td>False</td>\n",
       "      <td>True</td>\n",
       "    </tr>\n",
       "    <tr>\n",
       "      <th>3</th>\n",
       "      <td>False</td>\n",
       "      <td>True</td>\n",
       "    </tr>\n",
       "    <tr>\n",
       "      <th>4</th>\n",
       "      <td>False</td>\n",
       "      <td>True</td>\n",
       "    </tr>\n",
       "    <tr>\n",
       "      <th>5</th>\n",
       "      <td>False</td>\n",
       "      <td>True</td>\n",
       "    </tr>\n",
       "    <tr>\n",
       "      <th>...</th>\n",
       "      <td>...</td>\n",
       "      <td>...</td>\n",
       "    </tr>\n",
       "    <tr>\n",
       "      <th>2915</th>\n",
       "      <td>True</td>\n",
       "      <td>False</td>\n",
       "    </tr>\n",
       "    <tr>\n",
       "      <th>2916</th>\n",
       "      <td>True</td>\n",
       "      <td>False</td>\n",
       "    </tr>\n",
       "    <tr>\n",
       "      <th>2917</th>\n",
       "      <td>False</td>\n",
       "      <td>True</td>\n",
       "    </tr>\n",
       "    <tr>\n",
       "      <th>2918</th>\n",
       "      <td>False</td>\n",
       "      <td>True</td>\n",
       "    </tr>\n",
       "    <tr>\n",
       "      <th>2919</th>\n",
       "      <td>False</td>\n",
       "      <td>True</td>\n",
       "    </tr>\n",
       "  </tbody>\n",
       "</table>\n",
       "<p>2919 rows × 2 columns</p>\n",
       "</div>"
      ],
      "text/plain": [
       "      MSZoning_RL_False  MSZoning_RL_True\n",
       "Id                                       \n",
       "1                 False              True\n",
       "2                 False              True\n",
       "3                 False              True\n",
       "4                 False              True\n",
       "5                 False              True\n",
       "...                 ...               ...\n",
       "2915               True             False\n",
       "2916               True             False\n",
       "2917              False              True\n",
       "2918              False              True\n",
       "2919              False              True\n",
       "\n",
       "[2919 rows x 2 columns]"
      ]
     },
     "execution_count": 130,
     "metadata": {},
     "output_type": "execute_result"
    }
   ],
   "source": [
    "pd.get_dummies(df_enco['MSZoning_RL'], columns='MSZoning_RL', prefix='MSZoning_RL', drop_first=False)"
   ]
  },
  {
   "cell_type": "code",
   "execution_count": 117,
   "id": "d34baa1e-e4a4-4201-b584-02ba51d3f759",
   "metadata": {},
   "outputs": [
    {
     "name": "stdout",
     "output_type": "stream",
     "text": [
      "Index(['MSZoning_RL_False', 'MSZoning_RL_True'], dtype='object')\n",
      "Missing Columns: ['MSSubClass', 'MSZoning', 'Street', 'Alley', 'LotShape', 'LandContour', 'LotConfig', 'LandSlope', 'Neighborhood', 'Condition1', 'Condition2', 'BldgType', 'HouseStyle', 'YearBuilt', 'YearRemodAdd', 'RoofStyle', 'RoofMatl', 'Exterior1st', 'Exterior2nd', 'MasVnrType', 'Foundation', 'Heating', 'CentralAir', 'Electrical', 'GarageType', 'GarageYrBlt', 'Fence', 'MiscFeature', 'MoSold', 'YrSold', 'SaleType', 'SaleCondition']\n",
      "Columns that exist: []\n",
      "<class 'pandas.core.frame.DataFrame'>\n",
      "Index: 2919 entries, 1 to 2919\n",
      "Columns: 513 entries, LotFrontage to SaleCondition_Partial\n",
      "dtypes: bool(465), float64(11), int64(20), int8(17)\n",
      "memory usage: 2.1 MB\n"
     ]
    }
   ],
   "source": [
    "print(df_encod.columns)\n",
    "\n",
    "missing_columns = [col for col in object_features if col not in df_encod.columns]\n",
    "print(\"Missing Columns:\", missing_columns)\n",
    "\n",
    "existing_object_features = [col for col in object_features if col in df_encod.columns]\n",
    "print(\"Columns that exist:\", existing_object_features)\n",
    "\n",
    "df_encod = df_mvi.copy()\n",
    "\n",
    "object_features = df_encod.select_dtypes(include=\"object\").columns.tolist()\n",
    "df_encod = pd.get_dummies(df_encod, columns=object_features, prefix=object_features, drop_first=True)\n",
    "\n",
    "df_encod.info()"
   ]
  },
  {
   "cell_type": "code",
   "execution_count": 131,
   "id": "99aed41b-3ba3-4929-856c-22e7ef6f0970",
   "metadata": {},
   "outputs": [
    {
     "name": "stdout",
     "output_type": "stream",
     "text": [
      "Index(['LotFrontage', 'LotArea', 'Utilities', 'OverallQual', 'OverallCond',\n",
      "       'MasVnrArea', 'ExterQual', 'ExterCond', 'BsmtQual', 'BsmtCond',\n",
      "       ...\n",
      "       'SaleType_ConLI', 'SaleType_ConLw', 'SaleType_New', 'SaleType_Oth',\n",
      "       'SaleType_WD', 'SaleCondition_AdjLand', 'SaleCondition_Alloca',\n",
      "       'SaleCondition_Family', 'SaleCondition_Normal',\n",
      "       'SaleCondition_Partial'],\n",
      "      dtype='object', length=513)\n"
     ]
    }
   ],
   "source": [
    "print(df_enco.columns)"
   ]
  },
  {
   "cell_type": "code",
   "execution_count": 139,
   "id": "08396f72-1f55-4864-9303-df5f9640f0ce",
   "metadata": {},
   "outputs": [
    {
     "data": {
      "text/html": [
       "<div>\n",
       "<style scoped>\n",
       "    .dataframe tbody tr th:only-of-type {\n",
       "        vertical-align: middle;\n",
       "    }\n",
       "\n",
       "    .dataframe tbody tr th {\n",
       "        vertical-align: top;\n",
       "    }\n",
       "\n",
       "    .dataframe thead th {\n",
       "        text-align: right;\n",
       "    }\n",
       "</style>\n",
       "<table border=\"1\" class=\"dataframe\">\n",
       "  <thead>\n",
       "    <tr style=\"text-align: right;\">\n",
       "      <th></th>\n",
       "      <th>LotFrontage</th>\n",
       "      <th>LotArea</th>\n",
       "      <th>Utilities</th>\n",
       "      <th>OverallQual</th>\n",
       "      <th>OverallCond</th>\n",
       "      <th>MasVnrArea</th>\n",
       "      <th>ExterQual</th>\n",
       "      <th>ExterCond</th>\n",
       "      <th>BsmtQual</th>\n",
       "      <th>BsmtCond</th>\n",
       "      <th>...</th>\n",
       "      <th>SaleType_ConLI</th>\n",
       "      <th>SaleType_ConLw</th>\n",
       "      <th>SaleType_New</th>\n",
       "      <th>SaleType_Oth</th>\n",
       "      <th>SaleType_WD</th>\n",
       "      <th>SaleCondition_AdjLand</th>\n",
       "      <th>SaleCondition_Alloca</th>\n",
       "      <th>SaleCondition_Family</th>\n",
       "      <th>SaleCondition_Normal</th>\n",
       "      <th>SaleCondition_Partial</th>\n",
       "    </tr>\n",
       "    <tr>\n",
       "      <th>Id</th>\n",
       "      <th></th>\n",
       "      <th></th>\n",
       "      <th></th>\n",
       "      <th></th>\n",
       "      <th></th>\n",
       "      <th></th>\n",
       "      <th></th>\n",
       "      <th></th>\n",
       "      <th></th>\n",
       "      <th></th>\n",
       "      <th></th>\n",
       "      <th></th>\n",
       "      <th></th>\n",
       "      <th></th>\n",
       "      <th></th>\n",
       "      <th></th>\n",
       "      <th></th>\n",
       "      <th></th>\n",
       "      <th></th>\n",
       "      <th></th>\n",
       "      <th></th>\n",
       "    </tr>\n",
       "  </thead>\n",
       "  <tbody>\n",
       "    <tr>\n",
       "      <th>1</th>\n",
       "      <td>65.0</td>\n",
       "      <td>8450</td>\n",
       "      <td>3</td>\n",
       "      <td>7</td>\n",
       "      <td>5</td>\n",
       "      <td>196.0</td>\n",
       "      <td>3</td>\n",
       "      <td>2</td>\n",
       "      <td>4</td>\n",
       "      <td>3</td>\n",
       "      <td>...</td>\n",
       "      <td>0</td>\n",
       "      <td>0</td>\n",
       "      <td>0</td>\n",
       "      <td>0</td>\n",
       "      <td>1</td>\n",
       "      <td>0</td>\n",
       "      <td>0</td>\n",
       "      <td>0</td>\n",
       "      <td>1</td>\n",
       "      <td>0</td>\n",
       "    </tr>\n",
       "    <tr>\n",
       "      <th>2</th>\n",
       "      <td>80.0</td>\n",
       "      <td>9600</td>\n",
       "      <td>3</td>\n",
       "      <td>6</td>\n",
       "      <td>8</td>\n",
       "      <td>0.0</td>\n",
       "      <td>2</td>\n",
       "      <td>2</td>\n",
       "      <td>4</td>\n",
       "      <td>3</td>\n",
       "      <td>...</td>\n",
       "      <td>0</td>\n",
       "      <td>0</td>\n",
       "      <td>0</td>\n",
       "      <td>0</td>\n",
       "      <td>1</td>\n",
       "      <td>0</td>\n",
       "      <td>0</td>\n",
       "      <td>0</td>\n",
       "      <td>1</td>\n",
       "      <td>0</td>\n",
       "    </tr>\n",
       "    <tr>\n",
       "      <th>3</th>\n",
       "      <td>68.0</td>\n",
       "      <td>11250</td>\n",
       "      <td>3</td>\n",
       "      <td>7</td>\n",
       "      <td>5</td>\n",
       "      <td>162.0</td>\n",
       "      <td>3</td>\n",
       "      <td>2</td>\n",
       "      <td>4</td>\n",
       "      <td>3</td>\n",
       "      <td>...</td>\n",
       "      <td>0</td>\n",
       "      <td>0</td>\n",
       "      <td>0</td>\n",
       "      <td>0</td>\n",
       "      <td>1</td>\n",
       "      <td>0</td>\n",
       "      <td>0</td>\n",
       "      <td>0</td>\n",
       "      <td>1</td>\n",
       "      <td>0</td>\n",
       "    </tr>\n",
       "    <tr>\n",
       "      <th>4</th>\n",
       "      <td>60.0</td>\n",
       "      <td>9550</td>\n",
       "      <td>3</td>\n",
       "      <td>7</td>\n",
       "      <td>5</td>\n",
       "      <td>0.0</td>\n",
       "      <td>2</td>\n",
       "      <td>2</td>\n",
       "      <td>3</td>\n",
       "      <td>4</td>\n",
       "      <td>...</td>\n",
       "      <td>0</td>\n",
       "      <td>0</td>\n",
       "      <td>0</td>\n",
       "      <td>0</td>\n",
       "      <td>1</td>\n",
       "      <td>0</td>\n",
       "      <td>0</td>\n",
       "      <td>0</td>\n",
       "      <td>0</td>\n",
       "      <td>0</td>\n",
       "    </tr>\n",
       "    <tr>\n",
       "      <th>5</th>\n",
       "      <td>84.0</td>\n",
       "      <td>14260</td>\n",
       "      <td>3</td>\n",
       "      <td>8</td>\n",
       "      <td>5</td>\n",
       "      <td>350.0</td>\n",
       "      <td>3</td>\n",
       "      <td>2</td>\n",
       "      <td>4</td>\n",
       "      <td>3</td>\n",
       "      <td>...</td>\n",
       "      <td>0</td>\n",
       "      <td>0</td>\n",
       "      <td>0</td>\n",
       "      <td>0</td>\n",
       "      <td>1</td>\n",
       "      <td>0</td>\n",
       "      <td>0</td>\n",
       "      <td>0</td>\n",
       "      <td>1</td>\n",
       "      <td>0</td>\n",
       "    </tr>\n",
       "  </tbody>\n",
       "</table>\n",
       "<p>5 rows × 513 columns</p>\n",
       "</div>"
      ],
      "text/plain": [
       "    LotFrontage  LotArea  Utilities  OverallQual  OverallCond  MasVnrArea  \\\n",
       "Id                                                                          \n",
       "1          65.0     8450          3            7            5       196.0   \n",
       "2          80.0     9600          3            6            8         0.0   \n",
       "3          68.0    11250          3            7            5       162.0   \n",
       "4          60.0     9550          3            7            5         0.0   \n",
       "5          84.0    14260          3            8            5       350.0   \n",
       "\n",
       "    ExterQual  ExterCond  BsmtQual  BsmtCond  ...  SaleType_ConLI  \\\n",
       "Id                                            ...                   \n",
       "1           3          2         4         3  ...               0   \n",
       "2           2          2         4         3  ...               0   \n",
       "3           3          2         4         3  ...               0   \n",
       "4           2          2         3         4  ...               0   \n",
       "5           3          2         4         3  ...               0   \n",
       "\n",
       "    SaleType_ConLw  SaleType_New  SaleType_Oth  SaleType_WD  \\\n",
       "Id                                                            \n",
       "1                0             0             0            1   \n",
       "2                0             0             0            1   \n",
       "3                0             0             0            1   \n",
       "4                0             0             0            1   \n",
       "5                0             0             0            1   \n",
       "\n",
       "    SaleCondition_AdjLand  SaleCondition_Alloca  SaleCondition_Family  \\\n",
       "Id                                                                      \n",
       "1                       0                     0                     0   \n",
       "2                       0                     0                     0   \n",
       "3                       0                     0                     0   \n",
       "4                       0                     0                     0   \n",
       "5                       0                     0                     0   \n",
       "\n",
       "    SaleCondition_Normal  SaleCondition_Partial  \n",
       "Id                                               \n",
       "1                      1                      0  \n",
       "2                      1                      0  \n",
       "3                      1                      0  \n",
       "4                      0                      0  \n",
       "5                      1                      0  \n",
       "\n",
       "[5 rows x 513 columns]"
      ]
     },
     "execution_count": 139,
     "metadata": {},
     "output_type": "execute_result"
    }
   ],
   "source": [
    "df_enco.head()"
   ]
  },
  {
   "cell_type": "code",
   "execution_count": 140,
   "id": "681cb62b-59d1-45ae-a725-9cd3bd9a32f3",
   "metadata": {},
   "outputs": [
    {
     "data": {
      "text/plain": [
       "[]"
      ]
     },
     "execution_count": 140,
     "metadata": {},
     "output_type": "execute_result"
    }
   ],
   "source": [
    "df_enco.select_dtypes(include=\"object\").columns.tolist()"
   ]
  },
  {
   "cell_type": "code",
   "execution_count": 138,
   "id": "7ca411dc-ab09-472f-8d70-e3636fc29d1d",
   "metadata": {},
   "outputs": [],
   "source": [
    "bool_cols = df_enco.select_dtypes(include=['bool']).columns\n",
    "df_enco[bool_cols] = df_enco[bool_cols].astype(int)\n"
   ]
  },
  {
   "cell_type": "code",
   "execution_count": null,
   "id": "5114375f-0e27-4b05-a3fb-612626eca416",
   "metadata": {},
   "outputs": [],
   "source": [
    "## Split Data for Training and Testing"
   ]
  },
  {
   "cell_type": "code",
   "execution_count": 141,
   "id": "7ee7fc86-4f33-4b3d-ad12-36f2221db5b4",
   "metadata": {},
   "outputs": [
    {
     "data": {
      "text/plain": [
       "(2919, 513)"
      ]
     },
     "execution_count": 141,
     "metadata": {},
     "output_type": "execute_result"
    }
   ],
   "source": [
    "df_enco.shape"
   ]
  },
  {
   "cell_type": "code",
   "execution_count": 142,
   "id": "0c7aab8f-e1f2-41f0-abac-2ee5a1904893",
   "metadata": {},
   "outputs": [
    {
     "data": {
      "text/plain": [
       "1460"
      ]
     },
     "execution_count": 142,
     "metadata": {},
     "output_type": "execute_result"
    }
   ],
   "source": [
    "len_train = df_train.shape[0]\n",
    "len_train"
   ]
  },
  {
   "cell_type": "code",
   "execution_count": 143,
   "id": "c8fc4338-a3f4-4708-8a89-6a3133227dd9",
   "metadata": {},
   "outputs": [
    {
     "data": {
      "text/html": [
       "<div>\n",
       "<style scoped>\n",
       "    .dataframe tbody tr th:only-of-type {\n",
       "        vertical-align: middle;\n",
       "    }\n",
       "\n",
       "    .dataframe tbody tr th {\n",
       "        vertical-align: top;\n",
       "    }\n",
       "\n",
       "    .dataframe thead th {\n",
       "        text-align: right;\n",
       "    }\n",
       "</style>\n",
       "<table border=\"1\" class=\"dataframe\">\n",
       "  <thead>\n",
       "    <tr style=\"text-align: right;\">\n",
       "      <th></th>\n",
       "      <th>LotFrontage</th>\n",
       "      <th>LotArea</th>\n",
       "      <th>Utilities</th>\n",
       "      <th>OverallQual</th>\n",
       "      <th>OverallCond</th>\n",
       "      <th>MasVnrArea</th>\n",
       "      <th>ExterQual</th>\n",
       "      <th>ExterCond</th>\n",
       "      <th>BsmtQual</th>\n",
       "      <th>BsmtCond</th>\n",
       "      <th>...</th>\n",
       "      <th>SaleType_ConLI</th>\n",
       "      <th>SaleType_ConLw</th>\n",
       "      <th>SaleType_New</th>\n",
       "      <th>SaleType_Oth</th>\n",
       "      <th>SaleType_WD</th>\n",
       "      <th>SaleCondition_AdjLand</th>\n",
       "      <th>SaleCondition_Alloca</th>\n",
       "      <th>SaleCondition_Family</th>\n",
       "      <th>SaleCondition_Normal</th>\n",
       "      <th>SaleCondition_Partial</th>\n",
       "    </tr>\n",
       "    <tr>\n",
       "      <th>Id</th>\n",
       "      <th></th>\n",
       "      <th></th>\n",
       "      <th></th>\n",
       "      <th></th>\n",
       "      <th></th>\n",
       "      <th></th>\n",
       "      <th></th>\n",
       "      <th></th>\n",
       "      <th></th>\n",
       "      <th></th>\n",
       "      <th></th>\n",
       "      <th></th>\n",
       "      <th></th>\n",
       "      <th></th>\n",
       "      <th></th>\n",
       "      <th></th>\n",
       "      <th></th>\n",
       "      <th></th>\n",
       "      <th></th>\n",
       "      <th></th>\n",
       "      <th></th>\n",
       "    </tr>\n",
       "  </thead>\n",
       "  <tbody>\n",
       "    <tr>\n",
       "      <th>1</th>\n",
       "      <td>65.0</td>\n",
       "      <td>8450</td>\n",
       "      <td>3</td>\n",
       "      <td>7</td>\n",
       "      <td>5</td>\n",
       "      <td>196.0</td>\n",
       "      <td>3</td>\n",
       "      <td>2</td>\n",
       "      <td>4</td>\n",
       "      <td>3</td>\n",
       "      <td>...</td>\n",
       "      <td>0</td>\n",
       "      <td>0</td>\n",
       "      <td>0</td>\n",
       "      <td>0</td>\n",
       "      <td>1</td>\n",
       "      <td>0</td>\n",
       "      <td>0</td>\n",
       "      <td>0</td>\n",
       "      <td>1</td>\n",
       "      <td>0</td>\n",
       "    </tr>\n",
       "    <tr>\n",
       "      <th>2</th>\n",
       "      <td>80.0</td>\n",
       "      <td>9600</td>\n",
       "      <td>3</td>\n",
       "      <td>6</td>\n",
       "      <td>8</td>\n",
       "      <td>0.0</td>\n",
       "      <td>2</td>\n",
       "      <td>2</td>\n",
       "      <td>4</td>\n",
       "      <td>3</td>\n",
       "      <td>...</td>\n",
       "      <td>0</td>\n",
       "      <td>0</td>\n",
       "      <td>0</td>\n",
       "      <td>0</td>\n",
       "      <td>1</td>\n",
       "      <td>0</td>\n",
       "      <td>0</td>\n",
       "      <td>0</td>\n",
       "      <td>1</td>\n",
       "      <td>0</td>\n",
       "    </tr>\n",
       "    <tr>\n",
       "      <th>3</th>\n",
       "      <td>68.0</td>\n",
       "      <td>11250</td>\n",
       "      <td>3</td>\n",
       "      <td>7</td>\n",
       "      <td>5</td>\n",
       "      <td>162.0</td>\n",
       "      <td>3</td>\n",
       "      <td>2</td>\n",
       "      <td>4</td>\n",
       "      <td>3</td>\n",
       "      <td>...</td>\n",
       "      <td>0</td>\n",
       "      <td>0</td>\n",
       "      <td>0</td>\n",
       "      <td>0</td>\n",
       "      <td>1</td>\n",
       "      <td>0</td>\n",
       "      <td>0</td>\n",
       "      <td>0</td>\n",
       "      <td>1</td>\n",
       "      <td>0</td>\n",
       "    </tr>\n",
       "    <tr>\n",
       "      <th>4</th>\n",
       "      <td>60.0</td>\n",
       "      <td>9550</td>\n",
       "      <td>3</td>\n",
       "      <td>7</td>\n",
       "      <td>5</td>\n",
       "      <td>0.0</td>\n",
       "      <td>2</td>\n",
       "      <td>2</td>\n",
       "      <td>3</td>\n",
       "      <td>4</td>\n",
       "      <td>...</td>\n",
       "      <td>0</td>\n",
       "      <td>0</td>\n",
       "      <td>0</td>\n",
       "      <td>0</td>\n",
       "      <td>1</td>\n",
       "      <td>0</td>\n",
       "      <td>0</td>\n",
       "      <td>0</td>\n",
       "      <td>0</td>\n",
       "      <td>0</td>\n",
       "    </tr>\n",
       "    <tr>\n",
       "      <th>5</th>\n",
       "      <td>84.0</td>\n",
       "      <td>14260</td>\n",
       "      <td>3</td>\n",
       "      <td>8</td>\n",
       "      <td>5</td>\n",
       "      <td>350.0</td>\n",
       "      <td>3</td>\n",
       "      <td>2</td>\n",
       "      <td>4</td>\n",
       "      <td>3</td>\n",
       "      <td>...</td>\n",
       "      <td>0</td>\n",
       "      <td>0</td>\n",
       "      <td>0</td>\n",
       "      <td>0</td>\n",
       "      <td>1</td>\n",
       "      <td>0</td>\n",
       "      <td>0</td>\n",
       "      <td>0</td>\n",
       "      <td>1</td>\n",
       "      <td>0</td>\n",
       "    </tr>\n",
       "    <tr>\n",
       "      <th>...</th>\n",
       "      <td>...</td>\n",
       "      <td>...</td>\n",
       "      <td>...</td>\n",
       "      <td>...</td>\n",
       "      <td>...</td>\n",
       "      <td>...</td>\n",
       "      <td>...</td>\n",
       "      <td>...</td>\n",
       "      <td>...</td>\n",
       "      <td>...</td>\n",
       "      <td>...</td>\n",
       "      <td>...</td>\n",
       "      <td>...</td>\n",
       "      <td>...</td>\n",
       "      <td>...</td>\n",
       "      <td>...</td>\n",
       "      <td>...</td>\n",
       "      <td>...</td>\n",
       "      <td>...</td>\n",
       "      <td>...</td>\n",
       "      <td>...</td>\n",
       "    </tr>\n",
       "    <tr>\n",
       "      <th>1456</th>\n",
       "      <td>62.0</td>\n",
       "      <td>7917</td>\n",
       "      <td>3</td>\n",
       "      <td>6</td>\n",
       "      <td>5</td>\n",
       "      <td>0.0</td>\n",
       "      <td>2</td>\n",
       "      <td>2</td>\n",
       "      <td>4</td>\n",
       "      <td>3</td>\n",
       "      <td>...</td>\n",
       "      <td>0</td>\n",
       "      <td>0</td>\n",
       "      <td>0</td>\n",
       "      <td>0</td>\n",
       "      <td>1</td>\n",
       "      <td>0</td>\n",
       "      <td>0</td>\n",
       "      <td>0</td>\n",
       "      <td>1</td>\n",
       "      <td>0</td>\n",
       "    </tr>\n",
       "    <tr>\n",
       "      <th>1457</th>\n",
       "      <td>85.0</td>\n",
       "      <td>13175</td>\n",
       "      <td>3</td>\n",
       "      <td>6</td>\n",
       "      <td>6</td>\n",
       "      <td>119.0</td>\n",
       "      <td>2</td>\n",
       "      <td>2</td>\n",
       "      <td>4</td>\n",
       "      <td>3</td>\n",
       "      <td>...</td>\n",
       "      <td>0</td>\n",
       "      <td>0</td>\n",
       "      <td>0</td>\n",
       "      <td>0</td>\n",
       "      <td>1</td>\n",
       "      <td>0</td>\n",
       "      <td>0</td>\n",
       "      <td>0</td>\n",
       "      <td>1</td>\n",
       "      <td>0</td>\n",
       "    </tr>\n",
       "    <tr>\n",
       "      <th>1458</th>\n",
       "      <td>66.0</td>\n",
       "      <td>9042</td>\n",
       "      <td>3</td>\n",
       "      <td>7</td>\n",
       "      <td>9</td>\n",
       "      <td>0.0</td>\n",
       "      <td>4</td>\n",
       "      <td>3</td>\n",
       "      <td>3</td>\n",
       "      <td>4</td>\n",
       "      <td>...</td>\n",
       "      <td>0</td>\n",
       "      <td>0</td>\n",
       "      <td>0</td>\n",
       "      <td>0</td>\n",
       "      <td>1</td>\n",
       "      <td>0</td>\n",
       "      <td>0</td>\n",
       "      <td>0</td>\n",
       "      <td>1</td>\n",
       "      <td>0</td>\n",
       "    </tr>\n",
       "    <tr>\n",
       "      <th>1459</th>\n",
       "      <td>68.0</td>\n",
       "      <td>9717</td>\n",
       "      <td>3</td>\n",
       "      <td>5</td>\n",
       "      <td>6</td>\n",
       "      <td>0.0</td>\n",
       "      <td>2</td>\n",
       "      <td>2</td>\n",
       "      <td>3</td>\n",
       "      <td>3</td>\n",
       "      <td>...</td>\n",
       "      <td>0</td>\n",
       "      <td>0</td>\n",
       "      <td>0</td>\n",
       "      <td>0</td>\n",
       "      <td>1</td>\n",
       "      <td>0</td>\n",
       "      <td>0</td>\n",
       "      <td>0</td>\n",
       "      <td>1</td>\n",
       "      <td>0</td>\n",
       "    </tr>\n",
       "    <tr>\n",
       "      <th>1460</th>\n",
       "      <td>75.0</td>\n",
       "      <td>9937</td>\n",
       "      <td>3</td>\n",
       "      <td>5</td>\n",
       "      <td>6</td>\n",
       "      <td>0.0</td>\n",
       "      <td>3</td>\n",
       "      <td>2</td>\n",
       "      <td>3</td>\n",
       "      <td>3</td>\n",
       "      <td>...</td>\n",
       "      <td>0</td>\n",
       "      <td>0</td>\n",
       "      <td>0</td>\n",
       "      <td>0</td>\n",
       "      <td>1</td>\n",
       "      <td>0</td>\n",
       "      <td>0</td>\n",
       "      <td>0</td>\n",
       "      <td>1</td>\n",
       "      <td>0</td>\n",
       "    </tr>\n",
       "  </tbody>\n",
       "</table>\n",
       "<p>1460 rows × 513 columns</p>\n",
       "</div>"
      ],
      "text/plain": [
       "      LotFrontage  LotArea  Utilities  OverallQual  OverallCond  MasVnrArea  \\\n",
       "Id                                                                            \n",
       "1            65.0     8450          3            7            5       196.0   \n",
       "2            80.0     9600          3            6            8         0.0   \n",
       "3            68.0    11250          3            7            5       162.0   \n",
       "4            60.0     9550          3            7            5         0.0   \n",
       "5            84.0    14260          3            8            5       350.0   \n",
       "...           ...      ...        ...          ...          ...         ...   \n",
       "1456         62.0     7917          3            6            5         0.0   \n",
       "1457         85.0    13175          3            6            6       119.0   \n",
       "1458         66.0     9042          3            7            9         0.0   \n",
       "1459         68.0     9717          3            5            6         0.0   \n",
       "1460         75.0     9937          3            5            6         0.0   \n",
       "\n",
       "      ExterQual  ExterCond  BsmtQual  BsmtCond  ...  SaleType_ConLI  \\\n",
       "Id                                              ...                   \n",
       "1             3          2         4         3  ...               0   \n",
       "2             2          2         4         3  ...               0   \n",
       "3             3          2         4         3  ...               0   \n",
       "4             2          2         3         4  ...               0   \n",
       "5             3          2         4         3  ...               0   \n",
       "...         ...        ...       ...       ...  ...             ...   \n",
       "1456          2          2         4         3  ...               0   \n",
       "1457          2          2         4         3  ...               0   \n",
       "1458          4          3         3         4  ...               0   \n",
       "1459          2          2         3         3  ...               0   \n",
       "1460          3          2         3         3  ...               0   \n",
       "\n",
       "      SaleType_ConLw  SaleType_New  SaleType_Oth  SaleType_WD  \\\n",
       "Id                                                              \n",
       "1                  0             0             0            1   \n",
       "2                  0             0             0            1   \n",
       "3                  0             0             0            1   \n",
       "4                  0             0             0            1   \n",
       "5                  0             0             0            1   \n",
       "...              ...           ...           ...          ...   \n",
       "1456               0             0             0            1   \n",
       "1457               0             0             0            1   \n",
       "1458               0             0             0            1   \n",
       "1459               0             0             0            1   \n",
       "1460               0             0             0            1   \n",
       "\n",
       "      SaleCondition_AdjLand  SaleCondition_Alloca  SaleCondition_Family  \\\n",
       "Id                                                                        \n",
       "1                         0                     0                     0   \n",
       "2                         0                     0                     0   \n",
       "3                         0                     0                     0   \n",
       "4                         0                     0                     0   \n",
       "5                         0                     0                     0   \n",
       "...                     ...                   ...                   ...   \n",
       "1456                      0                     0                     0   \n",
       "1457                      0                     0                     0   \n",
       "1458                      0                     0                     0   \n",
       "1459                      0                     0                     0   \n",
       "1460                      0                     0                     0   \n",
       "\n",
       "      SaleCondition_Normal  SaleCondition_Partial  \n",
       "Id                                                 \n",
       "1                        1                      0  \n",
       "2                        1                      0  \n",
       "3                        1                      0  \n",
       "4                        0                      0  \n",
       "5                        1                      0  \n",
       "...                    ...                    ...  \n",
       "1456                     1                      0  \n",
       "1457                     1                      0  \n",
       "1458                     1                      0  \n",
       "1459                     1                      0  \n",
       "1460                     1                      0  \n",
       "\n",
       "[1460 rows x 513 columns]"
      ]
     },
     "execution_count": 143,
     "metadata": {},
     "output_type": "execute_result"
    }
   ],
   "source": [
    "df_enco[:len_train]"
   ]
  },
  {
   "cell_type": "code",
   "execution_count": 144,
   "id": "33afddf8-6db2-49cd-9ae9-97b422d50dcc",
   "metadata": {},
   "outputs": [
    {
     "name": "stdout",
     "output_type": "stream",
     "text": [
      "(1460, 512)\n",
      "(1460,)\n",
      "(1459, 512)\n"
     ]
    }
   ],
   "source": [
    "X_train = df_enco[:len_train].drop(\"SalePrice\", axis=1)\n",
    "y_train = df_enco[\"SalePrice\"][:len_train]\n",
    "X_test = df_enco[len_train:].drop(\"SalePrice\", axis = 1)\n",
    "\n",
    "print(X_train.shape)\n",
    "print(y_train.shape)\n",
    "print(X_test.shape)"
   ]
  },
  {
   "cell_type": "code",
   "execution_count": null,
   "id": "47082e07-9a91-4874-9e43-a75d801f655b",
   "metadata": {},
   "outputs": [],
   "source": [
    "## Feature Scaling"
   ]
  },
  {
   "cell_type": "code",
   "execution_count": 146,
   "id": "9fccddc8-c701-4ccd-b350-bd771bf0babc",
   "metadata": {},
   "outputs": [],
   "source": [
    "sc = StandardScaler()\n",
    "sc.fit(X_train)\n",
    "# formula z = (x-u)/s\n",
    "X_train = sc.transform(X_train)\n",
    "X_test = sc.transform(X_test)"
   ]
  },
  {
   "cell_type": "code",
   "execution_count": 147,
   "id": "dadc8136-47ba-4303-9843-a8885e734493",
   "metadata": {},
   "outputs": [
    {
     "data": {
      "text/plain": [
       "array([[-0.22335706, -0.20714171,  0.02618016, ..., -0.11785113,\n",
       "         0.4676514 , -0.30599503],\n",
       "       [ 0.45789401, -0.09188637,  0.02618016, ..., -0.11785113,\n",
       "         0.4676514 , -0.30599503],\n",
       "       [-0.08710685,  0.07347998,  0.02618016, ..., -0.11785113,\n",
       "         0.4676514 , -0.30599503]])"
      ]
     },
     "execution_count": 147,
     "metadata": {},
     "output_type": "execute_result"
    }
   ],
   "source": [
    "X_train[:3, :]"
   ]
  },
  {
   "cell_type": "code",
   "execution_count": 148,
   "id": "0b0bcd42-eefc-409f-a384-4a5baa2d47dd",
   "metadata": {},
   "outputs": [
    {
     "data": {
      "text/plain": [
       "array([[ 0.45789401,  0.11076257,  0.02618016, ..., -0.11785113,\n",
       "         0.4676514 , -0.30599503],\n",
       "       [ 0.50331075,  0.37584985,  0.02618016, ..., -0.11785113,\n",
       "         0.4676514 , -0.30599503],\n",
       "       [ 0.18539358,  0.33205282,  0.02618016, ..., -0.11785113,\n",
       "         0.4676514 , -0.30599503]])"
      ]
     },
     "execution_count": 148,
     "metadata": {},
     "output_type": "execute_result"
    }
   ],
   "source": [
    "X_test[:3, :]"
   ]
  },
  {
   "cell_type": "code",
   "execution_count": 155,
   "id": "d157670e-7df0-4dd9-a26b-e2bd01cc26d0",
   "metadata": {},
   "outputs": [
    {
     "data": {
      "text/plain": [
       "array([6.99179459e+01, 1.05168281e+04, 2.99726027e+00, 6.09931507e+00,\n",
       "       5.57534247e+00, 1.03117123e+02, 2.39589041e+00, 2.08356164e+00,\n",
       "       3.48904110e+00, 2.93493151e+00, 1.60410959e+00, 3.54589041e+00,\n",
       "       4.43639726e+02, 1.24726027e+00, 4.65493151e+01, 5.67240411e+02,\n",
       "       1.05742945e+03, 3.14520548e+00, 1.16262671e+03, 3.46992466e+02,\n",
       "       5.84452055e+00, 1.51546370e+03, 4.25342466e-01, 5.75342466e-02,\n",
       "       1.56506849e+00, 3.82876712e-01, 2.86643836e+00, 1.04657534e+00,\n",
       "       2.51164384e+00, 6.51780822e+00, 6.84178082e+00, 6.13013699e-01,\n",
       "       1.82534247e+00, 1.71575342e+00, 1.76712329e+00, 4.72980137e+02,\n",
       "       2.81027397e+00, 2.80890411e+00, 1.85616438e+00, 9.42445205e+01,\n",
       "       4.66602740e+01, 2.19541096e+01, 3.40958904e+00, 1.50609589e+01,\n",
       "       2.75890411e+00, 1.30136986e-02, 4.34890411e+01, 0.00000000e+00,\n",
       "       4.31506849e-02, 6.84931507e-03, 2.05479452e-02, 3.67123288e-01,\n",
       "       4.72602740e-02, 2.73972603e-03, 8.21917808e-03, 9.86301370e-02,\n",
       "       2.04794521e-01, 4.10958904e-02, 1.09589041e-02, 3.97260274e-02,\n",
       "       1.36986301e-02, 3.56164384e-02, 4.45205479e-02, 1.09589041e-02,\n",
       "       7.88356164e-01, 1.49315068e-01, 9.95890411e-01, 9.37671233e-01,\n",
       "       2.80821918e-02, 2.80821918e-02, 6.84931507e-03, 6.33561644e-01,\n",
       "       3.42465753e-02, 2.46575342e-02, 8.97945205e-01, 6.43835616e-02,\n",
       "       3.21917808e-02, 2.73972603e-03, 7.20547945e-01, 4.45205479e-02,\n",
       "       8.90410959e-03, 1.36986301e-03, 1.09589041e-02, 3.97260274e-02,\n",
       "       1.91780822e-02, 1.02739726e-01, 3.49315068e-02, 6.84931507e-02,\n",
       "       5.41095890e-02, 2.53424658e-02, 1.16438356e-02, 3.35616438e-02,\n",
       "       1.54109589e-01, 6.16438356e-03, 5.00000000e-02, 2.80821918e-02,\n",
       "       5.27397260e-02, 7.73972603e-02, 1.71232877e-02, 5.06849315e-02,\n",
       "       4.04109589e-02, 5.89041096e-02, 1.71232877e-02, 2.60273973e-02,\n",
       "       7.53424658e-03, 5.54794521e-02, 8.63013699e-01, 5.47945205e-03,\n",
       "       1.30136986e-02, 7.53424658e-03, 1.78082192e-02, 1.36986301e-03,\n",
       "       3.42465753e-03, 4.10958904e-03, 9.89726027e-01, 6.84931507e-04,\n",
       "       1.36986301e-03, 6.84931507e-04, 6.84931507e-04, 1.36986301e-03,\n",
       "       2.12328767e-02, 3.56164384e-02, 2.94520548e-02, 7.80821918e-02,\n",
       "       9.58904110e-03, 4.97260274e-01, 5.47945205e-03, 7.53424658e-03,\n",
       "       3.04794521e-01, 2.53424658e-02, 4.45205479e-02, 6.84931507e-04,\n",
       "       0.00000000e+00, 2.73972603e-03, 6.84931507e-04, 1.36986301e-03,\n",
       "       1.36986301e-03, 1.36986301e-03, 6.84931507e-04, 0.00000000e+00,\n",
       "       0.00000000e+00, 6.84931507e-04, 6.84931507e-03, 0.00000000e+00,\n",
       "       0.00000000e+00, 6.84931507e-04, 6.84931507e-04, 6.84931507e-04,\n",
       "       0.00000000e+00, 1.36986301e-03, 1.16438356e-02, 6.84931507e-04,\n",
       "       2.05479452e-03, 6.84931507e-04, 4.79452055e-03, 6.84931507e-03,\n",
       "       5.47945205e-03, 6.84931507e-04, 4.79452055e-03, 2.05479452e-03,\n",
       "       2.05479452e-02, 4.10958904e-03, 5.47945205e-03, 4.79452055e-03,\n",
       "       4.79452055e-03, 1.09589041e-02, 6.16438356e-03, 2.05479452e-03,\n",
       "       4.79452055e-03, 2.73972603e-03, 6.16438356e-03, 4.10958904e-03,\n",
       "       2.73972603e-03, 2.05479452e-03, 4.10958904e-03, 6.16438356e-03,\n",
       "       3.42465753e-03, 2.73972603e-03, 5.47945205e-03, 1.23287671e-02,\n",
       "       1.02739726e-02, 1.36986301e-03, 4.10958904e-03, 4.79452055e-03,\n",
       "       3.42465753e-03, 9.58904110e-03, 8.21917808e-03, 1.36986301e-02,\n",
       "       4.10958904e-03, 3.42465753e-03, 8.21917808e-03, 1.64383562e-02,\n",
       "       1.09589041e-02, 9.58904110e-03, 1.36986301e-02, 1.64383562e-02,\n",
       "       1.78082192e-02, 1.16438356e-02, 9.58904110e-03, 1.30136986e-02,\n",
       "       1.09589041e-02, 1.02739726e-02, 1.64383562e-02, 1.23287671e-02,\n",
       "       1.09589041e-02, 1.50684932e-02, 9.58904110e-03, 1.64383562e-02,\n",
       "       1.50684932e-02, 1.57534247e-02, 7.53424658e-03, 6.84931507e-03,\n",
       "       5.47945205e-03, 2.26027397e-02, 2.19178082e-02, 1.09589041e-02,\n",
       "       6.16438356e-03, 6.84931507e-03, 3.42465753e-03, 4.10958904e-03,\n",
       "       2.73972603e-03, 6.16438356e-03, 3.42465753e-03, 3.42465753e-03,\n",
       "       2.05479452e-03, 7.53424658e-03, 2.05479452e-03, 8.21917808e-03,\n",
       "       3.42465753e-03, 8.90410959e-03, 1.16438356e-02, 1.30136986e-02,\n",
       "       1.23287671e-02, 1.02739726e-02, 9.58904110e-03, 1.71232877e-02,\n",
       "       1.71232877e-02, 1.64383562e-02, 1.36986301e-02, 1.57534247e-02,\n",
       "       3.08219178e-02, 3.69863014e-02, 4.38356164e-02, 4.58904110e-02,\n",
       "       3.35616438e-02, 1.57534247e-02, 1.23287671e-02, 6.84931507e-04,\n",
       "       2.73972603e-03, 3.42465753e-03, 6.84931507e-03, 9.58904110e-03,\n",
       "       6.16438356e-03, 6.84931507e-03, 6.16438356e-03, 1.02739726e-02,\n",
       "       1.23287671e-02, 8.21917808e-03, 5.47945205e-03, 9.58904110e-03,\n",
       "       8.90410959e-03, 7.53424658e-03, 1.30136986e-02, 1.02739726e-02,\n",
       "       8.21917808e-03, 1.16438356e-02, 9.58904110e-03, 1.78082192e-02,\n",
       "       1.23287671e-02, 1.36986301e-02, 7.53424658e-03, 4.79452055e-03,\n",
       "       6.84931507e-03, 2.05479452e-02, 1.71232877e-02, 1.09589041e-02,\n",
       "       6.84931507e-03, 8.21917808e-03, 5.47945205e-03, 4.79452055e-03,\n",
       "       3.42465753e-03, 4.79452055e-03, 6.16438356e-03, 3.42465753e-03,\n",
       "       6.84931507e-03, 6.16438356e-03, 7.53424658e-03, 1.02739726e-02,\n",
       "       9.58904110e-03, 1.16438356e-02, 1.30136986e-02, 1.50684932e-02,\n",
       "       2.12328767e-02, 2.46575342e-02, 1.71232877e-02, 2.46575342e-02,\n",
       "       2.05479452e-02, 3.76712329e-02, 1.43835616e-02, 3.28767123e-02,\n",
       "       3.49315068e-02, 4.24657534e-02, 5.00000000e-02, 6.64383562e-02,\n",
       "       5.20547945e-02, 2.73972603e-02, 1.57534247e-02, 4.10958904e-03,\n",
       "       7.81506849e-01, 7.53424658e-03, 1.95890411e-01, 4.79452055e-03,\n",
       "       1.36986301e-03, 9.82191781e-01, 6.84931507e-04, 6.84931507e-04,\n",
       "       6.84931507e-04, 7.53424658e-03, 3.42465753e-03, 4.10958904e-03,\n",
       "       6.84931507e-04, 1.36986301e-03, 3.42465753e-02, 6.84931507e-04,\n",
       "       4.17808219e-02, 1.52054795e-01, 6.84931507e-04, 1.50684932e-01,\n",
       "       7.39726027e-02, 1.36986301e-03, 1.71232877e-02, 3.52739726e-01,\n",
       "       1.41095890e-01, 1.78082192e-02, 2.05479452e-03, 4.79452055e-03,\n",
       "       1.71232877e-02, 6.84931507e-04, 4.10958904e-02, 1.41780822e-01,\n",
       "       6.84931507e-03, 1.46575342e-01, 6.84931507e-04, 9.72602740e-02,\n",
       "       3.42465753e-03, 1.78082192e-02, 3.45205479e-01, 1.34931507e-01,\n",
       "       2.60273973e-02, 3.04794521e-01, 5.97260274e-01, 8.76712329e-02,\n",
       "       4.34246575e-01, 4.43150685e-01, 1.64383562e-02, 4.10958904e-03,\n",
       "       2.05479452e-03, 9.78082192e-01, 1.23287671e-02, 4.79452055e-03,\n",
       "       1.36986301e-03, 2.73972603e-03, 9.34931507e-01, 1.84931507e-02,\n",
       "       2.05479452e-03, 6.84931507e-04, 9.14383562e-01, 5.95890411e-01,\n",
       "       1.30136986e-02, 6.02739726e-02, 6.16438356e-03, 2.65068493e-01,\n",
       "       5.54794521e-02, 0.00000000e+00, 0.00000000e+00, 6.84931507e-04,\n",
       "       6.84931507e-04, 6.84931507e-04, 2.05479452e-03, 1.36986301e-03,\n",
       "       1.36986301e-03, 3.42465753e-03, 0.00000000e+00, 1.36986301e-03,\n",
       "       0.00000000e+00, 9.58904110e-03, 2.05479452e-03, 3.42465753e-03,\n",
       "       2.05479452e-03, 2.05479452e-03, 6.84931507e-03, 4.10958904e-03,\n",
       "       6.84931507e-04, 2.73972603e-03, 1.36986301e-03, 5.47945205e-03,\n",
       "       2.73972603e-03, 2.05479452e-03, 6.84931507e-04, 1.36986301e-03,\n",
       "       2.73972603e-03, 3.42465753e-03, 1.36986301e-03, 2.05479452e-03,\n",
       "       6.16438356e-03, 9.58904110e-03, 6.84931507e-03, 1.36986301e-03,\n",
       "       0.00000000e+00, 2.73972603e-03, 2.73972603e-03, 1.36986301e-03,\n",
       "       7.53424658e-03, 5.47945205e-03, 1.64383562e-02, 4.10958904e-03,\n",
       "       2.05479452e-03, 8.21917808e-03, 1.30136986e-02, 8.90410959e-03,\n",
       "       1.09589041e-02, 1.36986301e-02, 1.43835616e-02, 1.16438356e-02,\n",
       "       1.30136986e-02, 8.90410959e-03, 1.43835616e-02, 1.09589041e-02,\n",
       "       1.23287671e-02, 1.43835616e-02, 1.43835616e-02, 1.02739726e-02,\n",
       "       1.78082192e-02, 1.02739726e-02, 1.36986301e-02, 8.90410959e-03,\n",
       "       9.58904110e-03, 9.58904110e-03, 1.23287671e-02, 6.16438356e-03,\n",
       "       1.98630137e-02, 2.39726027e-02, 1.30136986e-02, 1.02739726e-02,\n",
       "       1.02739726e-02, 6.84931507e-03, 2.73972603e-03, 4.79452055e-03,\n",
       "       5.47945205e-03, 6.84931507e-03, 4.10958904e-03, 7.53424658e-03,\n",
       "       9.58904110e-03, 6.84931507e-03, 1.09589041e-02, 6.16438356e-03,\n",
       "       8.90410959e-03, 1.50684932e-02, 1.23287671e-02, 1.23287671e-02,\n",
       "       1.36986301e-02, 1.30136986e-02, 2.12328767e-02, 2.05479452e-02,\n",
       "       1.84931507e-02, 1.36986301e-02, 1.78082192e-02, 3.42465753e-02,\n",
       "       3.63013699e-02, 4.45205479e-02, 4.04109589e-02, 3.35616438e-02,\n",
       "       1.98630137e-02, 1.43835616e-02, 2.05479452e-03, 0.00000000e+00,\n",
       "       3.69863014e-02, 1.07534247e-01, 7.53424658e-03, 8.07534247e-01,\n",
       "       9.63013699e-01, 1.36986301e-03, 3.35616438e-02, 6.84931507e-04,\n",
       "       8.35616438e-02, 4.04109589e-02, 3.56164384e-02, 3.97260274e-02,\n",
       "       1.60273973e-01, 1.73287671e-01, 7.26027397e-02, 1.39726027e-01,\n",
       "       5.41095890e-02, 6.09589041e-02, 4.31506849e-02, 2.25342466e-01,\n",
       "       2.08219178e-01, 2.31506849e-01, 1.19863014e-01, 2.73972603e-03,\n",
       "       1.36986301e-03, 6.16438356e-03, 3.42465753e-03, 3.42465753e-03,\n",
       "       8.35616438e-02, 2.05479452e-03, 8.67808219e-01, 2.73972603e-03,\n",
       "       8.21917808e-03, 1.36986301e-02, 8.20547945e-01, 8.56164384e-02])"
      ]
     },
     "execution_count": 155,
     "metadata": {},
     "output_type": "execute_result"
    }
   ],
   "source": [
    "## Carry forward for deployment \n",
    "# sc.mean_\n",
    "# sc.n_features_in_\n",
    "# sc.n_samples_seen_\n",
    "# sc.var_\n",
    "# sc.with_mean\n",
    "# sc.with_std"
   ]
  },
  {
   "cell_type": "code",
   "execution_count": 150,
   "id": "42e14761-2a26-48f8-853b-e567c98be37b",
   "metadata": {},
   "outputs": [
    {
     "data": {
      "text/plain": [
       "512"
      ]
     },
     "execution_count": 150,
     "metadata": {},
     "output_type": "execute_result"
    }
   ],
   "source": [
    "## Train ML Model"
   ]
  },
  {
   "cell_type": "code",
   "execution_count": 160,
   "id": "55e1b1df-3c51-41ec-b751-d0b518f46af5",
   "metadata": {},
   "outputs": [
    {
     "name": "stdout",
     "output_type": "stream",
     "text": [
      "Requirement already satisfied: xgboost in c:\\users\\abhinaya siripurapu\\anaconda3\\lib\\site-packages (3.0.0)\n",
      "Requirement already satisfied: numpy in c:\\users\\abhinaya siripurapu\\anaconda3\\lib\\site-packages (from xgboost) (1.26.4)\n",
      "Requirement already satisfied: scipy in c:\\users\\abhinaya siripurapu\\anaconda3\\lib\\site-packages (from xgboost) (1.11.4)\n"
     ]
    }
   ],
   "source": [
    "!pip install xgboost"
   ]
  },
  {
   "cell_type": "code",
   "execution_count": 161,
   "id": "4d28bb3f-7b23-46d0-ab47-ab45b6e5a54c",
   "metadata": {},
   "outputs": [],
   "source": [
    "from sklearn.svm import SVR\n",
    "from sklearn.linear_model import LinearRegression\n",
    "from sklearn.linear_model import SGDRegressor\n",
    "from sklearn.neighbors import KNeighborsRegressor\n",
    "from sklearn.gaussian_process import GaussianProcessRegressor\n",
    "from sklearn.tree import DecisionTreeRegressor\n",
    "\n",
    "from sklearn.ensemble import GradientBoostingRegressor\n",
    "from sklearn.ensemble import RandomForestRegressor\n",
    "from sklearn.isotonic import IsotonicRegression\n",
    "from sklearn.neural_network import MLPRegressor\n",
    "\n",
    "from xgboost import XGBRegressor\n"
   ]
  },
  {
   "cell_type": "code",
   "execution_count": 165,
   "id": "bf89d3c3-d57c-4653-9fdb-44339df78fe9",
   "metadata": {},
   "outputs": [],
   "source": [
    "svr = SVR()\n",
    "lr = LinearRegression()\n",
    "sgdr = SGDRegressor()\n",
    "knr = KNeighborsRegressor()\n",
    "gpr = GaussianProcessRegressor()\n",
    "dtr = DecisionTreeRegressor()\n",
    "gbr = GradientBoostingRegressor()\n",
    "rfr = RandomForestRegressor()\n",
    "xgbr = XGBRegressor()\n",
    "mlpr = MLPRegressor()\n",
    "ir = IsotonicRegression()"
   ]
  },
  {
   "cell_type": "code",
   "execution_count": 166,
   "id": "5dd47871-38e2-40e0-98b3-d2a8b78ff4c9",
   "metadata": {},
   "outputs": [],
   "source": [
    "models = {\n",
    "    \"a\": [\"LinearRegression\", lr],\n",
    "    \"b\": [\"SVR\", svr],\n",
    "    \"c\": [\"SGDRegressor\", sgdr],\n",
    "    \"d\": [\"KNeighborsRegressor\", knr],\n",
    "    \"e\": [\"GaussianProcessRegressor\", gpr],\n",
    "    \"f\": [\"DecisionTreeRegressor\", dtr],\n",
    "    \"g\": [\"GradientBoostingRegressor\", gbr],\n",
    "    \"h\": [\"RandomForestRegressor\", rfr],\n",
    "    \"i\": [\"XGBRegressor\", xgbr],\n",
    "    \"j\": [\"MLPRegressor\", mlpr],\n",
    "    \"k\": [\"IsotonicRegression\", ir],\n",
    "}\n"
   ]
  },
  {
   "cell_type": "code",
   "execution_count": 167,
   "id": "fa70551d-89af-4369-88be-af336bdfca31",
   "metadata": {},
   "outputs": [],
   "source": [
    "from sklearn.model_selection import KFold, cross_val_score\n",
    "from sklearn.metrics import make_scorer, r2_score\n",
    "\n",
    "def test_model(model, X_train=X_train, y_train=y_train):\n",
    "    cv = KFold(n_splits=7, shuffle=True, random_state=45)\n",
    "    r2 = make_scorer(r2_score)\n",
    "    r2_val_score = cross_val_score(model, X_train, y_train, cv=cv, scoring=r2)\n",
    "    score = [r2_val_score.mean()]\n",
    "    return score"
   ]
  },
  {
   "cell_type": "code",
   "execution_count": 168,
   "id": "88448b38-afee-48d5-a923-140e27711952",
   "metadata": {},
   "outputs": [
    {
     "name": "stdout",
     "output_type": "stream",
     "text": [
      "Training model :  LinearRegression\n",
      "Score of model :  [-4.3976080302093206e+24]\n",
      "Training model :  SVR\n",
      "Score of model :  [-0.05213335195130802]\n",
      "Training model :  SGDRegressor\n",
      "Score of model :  [-5320.049378474464]\n",
      "Training model :  KNeighborsRegressor\n",
      "Score of model :  [0.5570463852006106]\n",
      "Training model :  GaussianProcessRegressor\n",
      "Score of model :  [-5.398712554903858]\n",
      "Training model :  DecisionTreeRegressor\n",
      "Score of model :  [0.6847180849255515]\n",
      "Training model :  GradientBoostingRegressor\n",
      "Score of model :  [0.8719942125858202]\n",
      "Training model :  RandomForestRegressor\n",
      "Score of model :  [0.844798251049938]\n",
      "Training model :  XGBRegressor\n",
      "Score of model :  [0.8582487612757063]\n",
      "Training model :  MLPRegressor\n"
     ]
    },
    {
     "name": "stderr",
     "output_type": "stream",
     "text": [
      "C:\\Users\\Abhinaya Siripurapu\\anaconda3\\Lib\\site-packages\\sklearn\\neural_network\\_multilayer_perceptron.py:686: ConvergenceWarning: Stochastic Optimizer: Maximum iterations (200) reached and the optimization hasn't converged yet.\n",
      "  warnings.warn(\n",
      "C:\\Users\\Abhinaya Siripurapu\\anaconda3\\Lib\\site-packages\\sklearn\\neural_network\\_multilayer_perceptron.py:686: ConvergenceWarning: Stochastic Optimizer: Maximum iterations (200) reached and the optimization hasn't converged yet.\n",
      "  warnings.warn(\n",
      "C:\\Users\\Abhinaya Siripurapu\\anaconda3\\Lib\\site-packages\\sklearn\\neural_network\\_multilayer_perceptron.py:686: ConvergenceWarning: Stochastic Optimizer: Maximum iterations (200) reached and the optimization hasn't converged yet.\n",
      "  warnings.warn(\n",
      "C:\\Users\\Abhinaya Siripurapu\\anaconda3\\Lib\\site-packages\\sklearn\\neural_network\\_multilayer_perceptron.py:686: ConvergenceWarning: Stochastic Optimizer: Maximum iterations (200) reached and the optimization hasn't converged yet.\n",
      "  warnings.warn(\n",
      "C:\\Users\\Abhinaya Siripurapu\\anaconda3\\Lib\\site-packages\\sklearn\\neural_network\\_multilayer_perceptron.py:686: ConvergenceWarning: Stochastic Optimizer: Maximum iterations (200) reached and the optimization hasn't converged yet.\n",
      "  warnings.warn(\n",
      "C:\\Users\\Abhinaya Siripurapu\\anaconda3\\Lib\\site-packages\\sklearn\\neural_network\\_multilayer_perceptron.py:686: ConvergenceWarning: Stochastic Optimizer: Maximum iterations (200) reached and the optimization hasn't converged yet.\n",
      "  warnings.warn(\n",
      "C:\\Users\\Abhinaya Siripurapu\\anaconda3\\Lib\\site-packages\\sklearn\\neural_network\\_multilayer_perceptron.py:686: ConvergenceWarning: Stochastic Optimizer: Maximum iterations (200) reached and the optimization hasn't converged yet.\n",
      "  warnings.warn(\n"
     ]
    },
    {
     "name": "stdout",
     "output_type": "stream",
     "text": [
      "Score of model :  [-4.828117634029348]\n",
      "Training model :  IsotonicRegression\n"
     ]
    },
    {
     "ename": "ValueError",
     "evalue": "\nAll the 7 fits failed.\nIt is very likely that your model is misconfigured.\nYou can try to debug the error by setting error_score='raise'.\n\nBelow are more details about the failures:\n--------------------------------------------------------------------------------\n7 fits failed with the following error:\nTraceback (most recent call last):\n  File \"C:\\Users\\Abhinaya Siripurapu\\anaconda3\\Lib\\site-packages\\sklearn\\model_selection\\_validation.py\", line 686, in _fit_and_score\n    estimator.fit(X_train, y_train, **fit_params)\n  File \"C:\\Users\\Abhinaya Siripurapu\\anaconda3\\Lib\\site-packages\\sklearn\\isotonic.py\", line 351, in fit\n    X, y = self._build_y(X, y, sample_weight)\n           ^^^^^^^^^^^^^^^^^^^^^^^^^^^^^^^^^^\n  File \"C:\\Users\\Abhinaya Siripurapu\\anaconda3\\Lib\\site-packages\\sklearn\\isotonic.py\", line 266, in _build_y\n    self._check_input_data_shape(X)\n  File \"C:\\Users\\Abhinaya Siripurapu\\anaconda3\\Lib\\site-packages\\sklearn\\isotonic.py\", line 250, in _check_input_data_shape\n    raise ValueError(msg)\nValueError: Isotonic regression input X should be a 1d array or 2d array with 1 feature\n",
     "output_type": "error",
     "traceback": [
      "\u001b[1;31m---------------------------------------------------------------------------\u001b[0m",
      "\u001b[1;31mValueError\u001b[0m                                Traceback (most recent call last)",
      "Cell \u001b[1;32mIn[168], line 5\u001b[0m\n\u001b[0;32m      3\u001b[0m \u001b[38;5;28;01mfor\u001b[39;00m model \u001b[38;5;129;01min\u001b[39;00m models:\n\u001b[0;32m      4\u001b[0m     \u001b[38;5;28mprint\u001b[39m(\u001b[38;5;124m\"\u001b[39m\u001b[38;5;124mTraining model : \u001b[39m\u001b[38;5;124m\"\u001b[39m, models[model][\u001b[38;5;241m0\u001b[39m])\n\u001b[1;32m----> 5\u001b[0m     score \u001b[38;5;241m=\u001b[39m test_model(models[model][\u001b[38;5;241m1\u001b[39m], X_train, y_train)\n\u001b[0;32m      6\u001b[0m     \u001b[38;5;28mprint\u001b[39m(\u001b[38;5;124m\"\u001b[39m\u001b[38;5;124mScore of model : \u001b[39m\u001b[38;5;124m\"\u001b[39m, score)\n\u001b[0;32m      7\u001b[0m     models_score\u001b[38;5;241m.\u001b[39mappend([models[model][\u001b[38;5;241m0\u001b[39m], score[\u001b[38;5;241m0\u001b[39m]])\n",
      "Cell \u001b[1;32mIn[167], line 7\u001b[0m, in \u001b[0;36mtest_model\u001b[1;34m(model, X_train, y_train)\u001b[0m\n\u001b[0;32m      5\u001b[0m cv \u001b[38;5;241m=\u001b[39m KFold(n_splits\u001b[38;5;241m=\u001b[39m\u001b[38;5;241m7\u001b[39m, shuffle\u001b[38;5;241m=\u001b[39m\u001b[38;5;28;01mTrue\u001b[39;00m, random_state\u001b[38;5;241m=\u001b[39m\u001b[38;5;241m45\u001b[39m)\n\u001b[0;32m      6\u001b[0m r2 \u001b[38;5;241m=\u001b[39m make_scorer(r2_score)\n\u001b[1;32m----> 7\u001b[0m r2_val_score \u001b[38;5;241m=\u001b[39m cross_val_score(model, X_train, y_train, cv\u001b[38;5;241m=\u001b[39mcv, scoring\u001b[38;5;241m=\u001b[39mr2)\n\u001b[0;32m      8\u001b[0m score \u001b[38;5;241m=\u001b[39m [r2_val_score\u001b[38;5;241m.\u001b[39mmean()]\n\u001b[0;32m      9\u001b[0m \u001b[38;5;28;01mreturn\u001b[39;00m score\n",
      "File \u001b[1;32m~\\anaconda3\\Lib\\site-packages\\sklearn\\model_selection\\_validation.py:515\u001b[0m, in \u001b[0;36mcross_val_score\u001b[1;34m(estimator, X, y, groups, scoring, cv, n_jobs, verbose, fit_params, pre_dispatch, error_score)\u001b[0m\n\u001b[0;32m    512\u001b[0m \u001b[38;5;66;03m# To ensure multimetric format is not supported\u001b[39;00m\n\u001b[0;32m    513\u001b[0m scorer \u001b[38;5;241m=\u001b[39m check_scoring(estimator, scoring\u001b[38;5;241m=\u001b[39mscoring)\n\u001b[1;32m--> 515\u001b[0m cv_results \u001b[38;5;241m=\u001b[39m cross_validate(\n\u001b[0;32m    516\u001b[0m     estimator\u001b[38;5;241m=\u001b[39mestimator,\n\u001b[0;32m    517\u001b[0m     X\u001b[38;5;241m=\u001b[39mX,\n\u001b[0;32m    518\u001b[0m     y\u001b[38;5;241m=\u001b[39my,\n\u001b[0;32m    519\u001b[0m     groups\u001b[38;5;241m=\u001b[39mgroups,\n\u001b[0;32m    520\u001b[0m     scoring\u001b[38;5;241m=\u001b[39m{\u001b[38;5;124m\"\u001b[39m\u001b[38;5;124mscore\u001b[39m\u001b[38;5;124m\"\u001b[39m: scorer},\n\u001b[0;32m    521\u001b[0m     cv\u001b[38;5;241m=\u001b[39mcv,\n\u001b[0;32m    522\u001b[0m     n_jobs\u001b[38;5;241m=\u001b[39mn_jobs,\n\u001b[0;32m    523\u001b[0m     verbose\u001b[38;5;241m=\u001b[39mverbose,\n\u001b[0;32m    524\u001b[0m     fit_params\u001b[38;5;241m=\u001b[39mfit_params,\n\u001b[0;32m    525\u001b[0m     pre_dispatch\u001b[38;5;241m=\u001b[39mpre_dispatch,\n\u001b[0;32m    526\u001b[0m     error_score\u001b[38;5;241m=\u001b[39merror_score,\n\u001b[0;32m    527\u001b[0m )\n\u001b[0;32m    528\u001b[0m \u001b[38;5;28;01mreturn\u001b[39;00m cv_results[\u001b[38;5;124m\"\u001b[39m\u001b[38;5;124mtest_score\u001b[39m\u001b[38;5;124m\"\u001b[39m]\n",
      "File \u001b[1;32m~\\anaconda3\\Lib\\site-packages\\sklearn\\model_selection\\_validation.py:285\u001b[0m, in \u001b[0;36mcross_validate\u001b[1;34m(estimator, X, y, groups, scoring, cv, n_jobs, verbose, fit_params, pre_dispatch, return_train_score, return_estimator, error_score)\u001b[0m\n\u001b[0;32m    265\u001b[0m parallel \u001b[38;5;241m=\u001b[39m Parallel(n_jobs\u001b[38;5;241m=\u001b[39mn_jobs, verbose\u001b[38;5;241m=\u001b[39mverbose, pre_dispatch\u001b[38;5;241m=\u001b[39mpre_dispatch)\n\u001b[0;32m    266\u001b[0m results \u001b[38;5;241m=\u001b[39m parallel(\n\u001b[0;32m    267\u001b[0m     delayed(_fit_and_score)(\n\u001b[0;32m    268\u001b[0m         clone(estimator),\n\u001b[1;32m   (...)\u001b[0m\n\u001b[0;32m    282\u001b[0m     \u001b[38;5;28;01mfor\u001b[39;00m train, test \u001b[38;5;129;01min\u001b[39;00m cv\u001b[38;5;241m.\u001b[39msplit(X, y, groups)\n\u001b[0;32m    283\u001b[0m )\n\u001b[1;32m--> 285\u001b[0m _warn_or_raise_about_fit_failures(results, error_score)\n\u001b[0;32m    287\u001b[0m \u001b[38;5;66;03m# For callabe scoring, the return type is only know after calling. If the\u001b[39;00m\n\u001b[0;32m    288\u001b[0m \u001b[38;5;66;03m# return type is a dictionary, the error scores can now be inserted with\u001b[39;00m\n\u001b[0;32m    289\u001b[0m \u001b[38;5;66;03m# the correct key.\u001b[39;00m\n\u001b[0;32m    290\u001b[0m \u001b[38;5;28;01mif\u001b[39;00m \u001b[38;5;28mcallable\u001b[39m(scoring):\n",
      "File \u001b[1;32m~\\anaconda3\\Lib\\site-packages\\sklearn\\model_selection\\_validation.py:367\u001b[0m, in \u001b[0;36m_warn_or_raise_about_fit_failures\u001b[1;34m(results, error_score)\u001b[0m\n\u001b[0;32m    360\u001b[0m \u001b[38;5;28;01mif\u001b[39;00m num_failed_fits \u001b[38;5;241m==\u001b[39m num_fits:\n\u001b[0;32m    361\u001b[0m     all_fits_failed_message \u001b[38;5;241m=\u001b[39m (\n\u001b[0;32m    362\u001b[0m         \u001b[38;5;124mf\u001b[39m\u001b[38;5;124m\"\u001b[39m\u001b[38;5;130;01m\\n\u001b[39;00m\u001b[38;5;124mAll the \u001b[39m\u001b[38;5;132;01m{\u001b[39;00mnum_fits\u001b[38;5;132;01m}\u001b[39;00m\u001b[38;5;124m fits failed.\u001b[39m\u001b[38;5;130;01m\\n\u001b[39;00m\u001b[38;5;124m\"\u001b[39m\n\u001b[0;32m    363\u001b[0m         \u001b[38;5;124m\"\u001b[39m\u001b[38;5;124mIt is very likely that your model is misconfigured.\u001b[39m\u001b[38;5;130;01m\\n\u001b[39;00m\u001b[38;5;124m\"\u001b[39m\n\u001b[0;32m    364\u001b[0m         \u001b[38;5;124m\"\u001b[39m\u001b[38;5;124mYou can try to debug the error by setting error_score=\u001b[39m\u001b[38;5;124m'\u001b[39m\u001b[38;5;124mraise\u001b[39m\u001b[38;5;124m'\u001b[39m\u001b[38;5;124m.\u001b[39m\u001b[38;5;130;01m\\n\u001b[39;00m\u001b[38;5;130;01m\\n\u001b[39;00m\u001b[38;5;124m\"\u001b[39m\n\u001b[0;32m    365\u001b[0m         \u001b[38;5;124mf\u001b[39m\u001b[38;5;124m\"\u001b[39m\u001b[38;5;124mBelow are more details about the failures:\u001b[39m\u001b[38;5;130;01m\\n\u001b[39;00m\u001b[38;5;132;01m{\u001b[39;00mfit_errors_summary\u001b[38;5;132;01m}\u001b[39;00m\u001b[38;5;124m\"\u001b[39m\n\u001b[0;32m    366\u001b[0m     )\n\u001b[1;32m--> 367\u001b[0m     \u001b[38;5;28;01mraise\u001b[39;00m \u001b[38;5;167;01mValueError\u001b[39;00m(all_fits_failed_message)\n\u001b[0;32m    369\u001b[0m \u001b[38;5;28;01melse\u001b[39;00m:\n\u001b[0;32m    370\u001b[0m     some_fits_failed_message \u001b[38;5;241m=\u001b[39m (\n\u001b[0;32m    371\u001b[0m         \u001b[38;5;124mf\u001b[39m\u001b[38;5;124m\"\u001b[39m\u001b[38;5;130;01m\\n\u001b[39;00m\u001b[38;5;132;01m{\u001b[39;00mnum_failed_fits\u001b[38;5;132;01m}\u001b[39;00m\u001b[38;5;124m fits failed out of a total of \u001b[39m\u001b[38;5;132;01m{\u001b[39;00mnum_fits\u001b[38;5;132;01m}\u001b[39;00m\u001b[38;5;124m.\u001b[39m\u001b[38;5;130;01m\\n\u001b[39;00m\u001b[38;5;124m\"\u001b[39m\n\u001b[0;32m    372\u001b[0m         \u001b[38;5;124m\"\u001b[39m\u001b[38;5;124mThe score on these train-test partitions for these parameters\u001b[39m\u001b[38;5;124m\"\u001b[39m\n\u001b[1;32m   (...)\u001b[0m\n\u001b[0;32m    376\u001b[0m         \u001b[38;5;124mf\u001b[39m\u001b[38;5;124m\"\u001b[39m\u001b[38;5;124mBelow are more details about the failures:\u001b[39m\u001b[38;5;130;01m\\n\u001b[39;00m\u001b[38;5;132;01m{\u001b[39;00mfit_errors_summary\u001b[38;5;132;01m}\u001b[39;00m\u001b[38;5;124m\"\u001b[39m\n\u001b[0;32m    377\u001b[0m     )\n",
      "\u001b[1;31mValueError\u001b[0m: \nAll the 7 fits failed.\nIt is very likely that your model is misconfigured.\nYou can try to debug the error by setting error_score='raise'.\n\nBelow are more details about the failures:\n--------------------------------------------------------------------------------\n7 fits failed with the following error:\nTraceback (most recent call last):\n  File \"C:\\Users\\Abhinaya Siripurapu\\anaconda3\\Lib\\site-packages\\sklearn\\model_selection\\_validation.py\", line 686, in _fit_and_score\n    estimator.fit(X_train, y_train, **fit_params)\n  File \"C:\\Users\\Abhinaya Siripurapu\\anaconda3\\Lib\\site-packages\\sklearn\\isotonic.py\", line 351, in fit\n    X, y = self._build_y(X, y, sample_weight)\n           ^^^^^^^^^^^^^^^^^^^^^^^^^^^^^^^^^^\n  File \"C:\\Users\\Abhinaya Siripurapu\\anaconda3\\Lib\\site-packages\\sklearn\\isotonic.py\", line 266, in _build_y\n    self._check_input_data_shape(X)\n  File \"C:\\Users\\Abhinaya Siripurapu\\anaconda3\\Lib\\site-packages\\sklearn\\isotonic.py\", line 250, in _check_input_data_shape\n    raise ValueError(msg)\nValueError: Isotonic regression input X should be a 1d array or 2d array with 1 feature\n"
     ]
    }
   ],
   "source": [
    "models_score = []\n",
    "\n",
    "for model in models:\n",
    "    print(\"Training model : \", models[model][0])\n",
    "    score = test_model(models[model][1], X_train, y_train)\n",
    "    print(\"Score of model : \", score)\n",
    "    models_score.append([models[model][0], score[0]])"
   ]
  },
  {
   "cell_type": "code",
   "execution_count": null,
   "id": "8d8812f8-ff26-4491-9cb2-7e7ac47586b2",
   "metadata": {},
   "outputs": [],
   "source": [
    "### accuracy : 87.194%"
   ]
  }
 ],
 "metadata": {
  "kernelspec": {
   "display_name": "Python 3 (ipykernel)",
   "language": "python",
   "name": "python3"
  },
  "language_info": {
   "codemirror_mode": {
    "name": "ipython",
    "version": 3
   },
   "file_extension": ".py",
   "mimetype": "text/x-python",
   "name": "python",
   "nbconvert_exporter": "python",
   "pygments_lexer": "ipython3",
   "version": "3.11.7"
  }
 },
 "nbformat": 4,
 "nbformat_minor": 5
}
